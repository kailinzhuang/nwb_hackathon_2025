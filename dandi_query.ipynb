{
 "cells": [
  {
   "cell_type": "markdown",
   "metadata": {},
   "source": [
    "based on notebooks in  \n",
    "https://github.com/dandi/example-notebooks/tree/master/tutorials/neurodatarehack_2024 "
   ]
  },
  {
   "cell_type": "code",
   "execution_count": 10,
   "metadata": {},
   "outputs": [],
   "source": [
    "import json\n",
    "import numpy as np\n",
    "from dandi.dandiapi import DandiAPIClient\n",
    "from tqdm.notebook import tqdm\n",
    "from isodate import parse_duration, Duration\n",
    "from datetime import datetime\n",
    "from warnings import simplefilter\n",
    "simplefilter(\"ignore\")  # Suppress namespace warnings from reading older NWB files\n",
    "\n",
    "from nwbinspector.tools import get_s3_urls_and_dandi_paths\n",
    "from pynwb import NWBHDF5IO\n",
    "import remfile\n",
    "import h5py\n",
    "\n",
    "import lindi, pynwb\n",
    "\n",
    "from dandi.dandiapi import DandiAPIClient\n",
    "\n"
   ]
  },
  {
   "cell_type": "code",
   "execution_count": 4,
   "metadata": {},
   "outputs": [],
   "source": [
    "client = DandiAPIClient()\n",
    "dandisets = list(client.get_dandisets())"
   ]
  },
  {
   "cell_type": "markdown",
   "metadata": {},
   "source": [
    "# nwb dandisets"
   ]
  },
  {
   "cell_type": "code",
   "execution_count": 5,
   "metadata": {},
   "outputs": [
    {
     "data": {
      "application/vnd.jupyter.widget-view+json": {
       "model_id": "ab4e155ff12f420089d3706dbfd9942e",
       "version_major": 2,
       "version_minor": 0
      },
      "text/plain": [
       "  0%|          | 0/697 [00:00<?, ?it/s]"
      ]
     },
     "metadata": {},
     "output_type": "display_data"
    },
    {
     "name": "stdout",
     "output_type": "stream",
     "text": [
      "There are currently 420 NWB datasets on DANDI!\n"
     ]
    }
   ],
   "source": [
    "nwb_dandisets = []\n",
    "\n",
    "for dandiset in tqdm(dandisets):\n",
    "    raw_metadata = dandiset.get_raw_metadata()\n",
    "\n",
    "    if any(\n",
    "        data_standard['identifier'] == \"RRID:SCR_015242\"  # this is the RRID for NWB\n",
    "        for data_standard in raw_metadata['assetsSummary'].get('dataStandard', [])\n",
    "    ):\n",
    "        nwb_dandisets.append(dandiset)\n",
    "print(f\"There are currently {len(nwb_dandisets)} NWB datasets on DANDI!\")"
   ]
  },
  {
   "cell_type": "markdown",
   "metadata": {},
   "source": [
    "# dandisets with ephys"
   ]
  },
  {
   "cell_type": "code",
   "execution_count": 92,
   "metadata": {},
   "outputs": [
    {
     "data": {
      "application/vnd.jupyter.widget-view+json": {
       "model_id": "5af3488642db46299bc7958889bc6d0a",
       "version_major": 2,
       "version_minor": 0
      },
      "text/plain": [
       "  0%|          | 0/420 [00:00<?, ?it/s]"
      ]
     },
     "metadata": {},
     "output_type": "display_data"
    },
    {
     "name": "stdout",
     "output_type": "stream",
     "text": [
      "219\n"
     ]
    }
   ],
   "source": [
    "ephys_nwb_dandisets = []\n",
    "\n",
    "for dset in tqdm(nwb_dandisets):\n",
    "    raw_metadata = dset.get_raw_metadata()\n",
    "\n",
    "    approaches = raw_metadata['assetsSummary'].get('approach', [])\n",
    "    if (\n",
    "        any('electrophysiological' in a.get('name', '') for a in approaches) \n",
    "    ):\n",
    "        ephys_nwb_dandisets.append(dset)\n",
    "\n",
    "print(len(ephys_nwb_dandisets))"
   ]
  },
  {
   "cell_type": "markdown",
   "metadata": {},
   "source": [
    "# dandisets with ephys and behavior  \n"
   ]
  },
  {
   "cell_type": "code",
   "execution_count": 93,
   "metadata": {},
   "outputs": [
    {
     "data": {
      "text/plain": [
       "{'id': 'DANDI:000003/0.250624.0409',\n",
       " 'doi': '10.48324/dandi.000003/0.250624.0409',\n",
       " 'url': 'https://dandiarchive.org/dandiset/000003/0.250624.0409',\n",
       " 'name': 'Physiological Properties and Behavioral Correlates of Hippocampal Granule Cells and Mossy Cells',\n",
       " 'about': [{'name': 'hippocampus',\n",
       "   'schemaKey': 'Anatomy',\n",
       "   'identifier': 'UBERON:0002421'}],\n",
       " 'access': [{'status': 'dandi:OpenAccess',\n",
       "   'schemaKey': 'AccessRequirements',\n",
       "   'contactPoint': {'email': 'petersen.peter@gmail.com',\n",
       "    'schemaKey': 'ContactPoint'}}],\n",
       " 'license': ['spdx:CC-BY-4.0'],\n",
       " 'version': '0.250624.0409',\n",
       " '@context': 'https://raw.githubusercontent.com/dandi/schema/master/releases/0.6.0/context.json',\n",
       " 'citation': 'Senzai, Yuta; Fernandez-Ruiz, Antonio; Buzsáki, György (2025) Physiological Properties and Behavioral Correlates of Hippocampal Granule Cells and Mossy Cells (Version 0.250624.0409) [Data set]. DANDI Archive. https://doi.org/10.48324/dandi.000003/0.250624.0409',\n",
       " 'keywords': ['cell types',\n",
       "  'current source density',\n",
       "  'laminar recordings',\n",
       "  'oscillations',\n",
       "  'mossy cells',\n",
       "  'granule cells',\n",
       "  'optogenetics'],\n",
       " 'schemaKey': 'Dandiset',\n",
       " 'identifier': 'DANDI:000003',\n",
       " 'repository': 'https://dandiarchive.org',\n",
       " 'contributor': [{'name': 'Senzai, Yuta',\n",
       "   'email': 'yuta.senzai@northwestern.edu',\n",
       "   'roleName': ['dcite:Author',\n",
       "    'dcite:ContactPerson',\n",
       "    'dcite:DataCollector',\n",
       "    'dcite:FormalAnalysis'],\n",
       "   'schemaKey': 'Person',\n",
       "   'identifier': '0000-0002-2990-9889',\n",
       "   'affiliation': [{'name': 'New York University Langone Medical Center',\n",
       "     'schemaKey': 'Affiliation',\n",
       "     'identifier': 'https://ror.org/005dvqh91'},\n",
       "    {'name': 'New York University',\n",
       "     'schemaKey': 'Affiliation',\n",
       "     'identifier': 'https://ror.org/0190ak572'}],\n",
       "   'includeInCitation': True},\n",
       "  {'name': 'Fernandez-Ruiz, Antonio',\n",
       "   'roleName': ['dcite:Author', 'dcite:FormalAnalysis'],\n",
       "   'schemaKey': 'Person',\n",
       "   'identifier': '0000-0001-8481-0796',\n",
       "   'affiliation': [],\n",
       "   'includeInCitation': True},\n",
       "  {'name': 'Buzsáki, György',\n",
       "   'roleName': ['dcite:Author'],\n",
       "   'schemaKey': 'Person',\n",
       "   'identifier': '0000-0002-3100-4800',\n",
       "   'affiliation': [{'name': 'New York University Langone Medical Center',\n",
       "     'schemaKey': 'Affiliation',\n",
       "     'identifier': 'https://ror.org/005dvqh91'},\n",
       "    {'name': 'New York University',\n",
       "     'schemaKey': 'Affiliation',\n",
       "     'identifier': 'https://ror.org/0190ak572'}],\n",
       "   'includeInCitation': True},\n",
       "  {'url': 'https://www.nih.gov/',\n",
       "   'name': 'National Institutes of Health',\n",
       "   'roleName': ['dcite:Funder'],\n",
       "   'schemaKey': 'Organization',\n",
       "   'identifier': 'https://ror.org/01cwqze88',\n",
       "   'awardNumber': 'NIHMH54671, MH107396, NS090583',\n",
       "   'contactPoint': [],\n",
       "   'includeInCitation': False},\n",
       "  {'url': 'http://hnf.jp/',\n",
       "   'name': 'Nakajima Foundation',\n",
       "   'roleName': ['dcite:Funder'],\n",
       "   'schemaKey': 'Organization',\n",
       "   'identifier': 'https://ror.org/000k40t10',\n",
       "   'contactPoint': [],\n",
       "   'includeInCitation': False},\n",
       "  {'url': 'http://www.nsf.gov/',\n",
       "   'name': 'National Science Foundation',\n",
       "   'roleName': ['dcite:Funder'],\n",
       "   'schemaKey': 'Organization',\n",
       "   'identifier': 'https://ror.org/021nxhr62',\n",
       "   'awardNumber': 'PIRE',\n",
       "   'contactPoint': [],\n",
       "   'includeInCitation': False},\n",
       "  {'url': 'https://www.simonsfoundation.org',\n",
       "   'name': 'Simons Foundation',\n",
       "   'roleName': ['dcite:Funder'],\n",
       "   'schemaKey': 'Organization',\n",
       "   'identifier': 'https://ror.org/01cmst727',\n",
       "   'contactPoint': [],\n",
       "   'includeInCitation': False},\n",
       "  {'name': 'Baker, Cody',\n",
       "   'roleName': ['dcite:DataCurator'],\n",
       "   'schemaKey': 'Person',\n",
       "   'identifier': '0000-0002-0829-4790'}],\n",
       " 'dateCreated': '2020-03-15T22:56:55.655000+00:00',\n",
       " 'description': 'Data from \"Physiological Properties and Behavioral Correlates of Hippocampal Granule Cells and Mossy Cells\" Senzai, Buzsaki, Neuron 2017. Electrophysiology recordings of hippocampus during theta maze exploration.',\n",
       " 'publishedBy': {'id': 'urn:uuid:7a953a41-2053-4be5-99be-e1bd6868e56a',\n",
       "  'name': 'DANDI publish',\n",
       "  'endDate': '2025-06-24T04:09:08.749895+00:00',\n",
       "  'schemaKey': 'PublishActivity',\n",
       "  'startDate': '2025-06-24T04:09:08.749895+00:00',\n",
       "  'wasAssociatedWith': [{'id': 'urn:uuid:2e727f4b-6ac0-4a0c-8505-ad1573c088dc',\n",
       "    'name': 'DANDI API',\n",
       "    'version': '0.1.0',\n",
       "    'schemaKey': 'Software',\n",
       "    'identifier': 'RRID:SCR_017571'}]},\n",
       " 'assetsSummary': {'species': [{'name': 'House mouse',\n",
       "    'schemaKey': 'SpeciesType',\n",
       "    'identifier': 'http://purl.obolibrary.org/obo/NCBITaxon_10090'}],\n",
       "  'approach': [{'name': 'electrophysiological approach',\n",
       "    'schemaKey': 'ApproachType'},\n",
       "   {'name': 'behavioral approach', 'schemaKey': 'ApproachType'}],\n",
       "  'schemaKey': 'AssetsSummary',\n",
       "  'dataStandard': [{'name': 'Neurodata Without Borders (NWB)',\n",
       "    'schemaKey': 'StandardsType',\n",
       "    'identifier': 'RRID:SCR_015242'}],\n",
       "  'numberOfBytes': 2559248010229,\n",
       "  'numberOfFiles': 101,\n",
       "  'numberOfSubjects': 16,\n",
       "  'variableMeasured': ['DecompositionSeries',\n",
       "   'LFP',\n",
       "   'Units',\n",
       "   'Position',\n",
       "   'ElectricalSeries'],\n",
       "  'measurementTechnique': [{'name': 'signal filtering technique',\n",
       "    'schemaKey': 'MeasurementTechniqueType'},\n",
       "   {'name': 'fourier analysis technique',\n",
       "    'schemaKey': 'MeasurementTechniqueType'},\n",
       "   {'name': 'spike sorting technique',\n",
       "    'schemaKey': 'MeasurementTechniqueType'},\n",
       "   {'name': 'behavioral technique', 'schemaKey': 'MeasurementTechniqueType'},\n",
       "   {'name': 'multi electrode extracellular electrophysiology recording technique',\n",
       "    'schemaKey': 'MeasurementTechniqueType'}]},\n",
       " 'datePublished': '2025-06-24T04:09:08.749895+00:00',\n",
       " 'schemaVersion': '0.6.0',\n",
       " 'ethicsApproval': [],\n",
       " 'wasGeneratedBy': [],\n",
       " 'relatedResource': [{'url': 'https://doi.org/10.1016/j.neuron.2016.12.011',\n",
       "   'name': 'Physiological Properties and Behavioral Correlates of Hippocampal Granule Cells and Mossy Cells',\n",
       "   'relation': 'dcite:IsDescribedBy',\n",
       "   'schemaKey': 'Resource',\n",
       "   'identifier': 'doi:10.1016/j.neuron.2016.12.011',\n",
       "   'resourceType': 'dcite:JournalArticle'}],\n",
       " 'manifestLocation': ['https://dandiarchive.s3.amazonaws.com/dandisets/000003/0.250624.0409/assets.yaml']}"
      ]
     },
     "execution_count": 93,
     "metadata": {},
     "output_type": "execute_result"
    }
   ],
   "source": [
    "raw_metadata = dandisets[0].get_raw_metadata()\n",
    "raw_metadata"
   ]
  },
  {
   "cell_type": "code",
   "execution_count": 7,
   "metadata": {},
   "outputs": [
    {
     "data": {
      "text/plain": [
       "'House mouse'"
      ]
     },
     "execution_count": 7,
     "metadata": {},
     "output_type": "execute_result"
    }
   ],
   "source": [
    "raw_metadata['assetsSummary']['species'][0].get('name', '')"
   ]
  },
  {
   "cell_type": "code",
   "execution_count": 8,
   "metadata": {},
   "outputs": [
    {
     "data": {
      "application/vnd.jupyter.widget-view+json": {
       "model_id": "4bd0663ccd73411b865b014b2cf0469a",
       "version_major": 2,
       "version_minor": 0
      },
      "text/plain": [
       "  0%|          | 0/420 [00:00<?, ?it/s]"
      ]
     },
     "metadata": {},
     "output_type": "display_data"
    },
    {
     "name": "stdout",
     "output_type": "stream",
     "text": [
      "64\n"
     ]
    }
   ],
   "source": [
    "brbe_nwb_dandisets = []\n",
    "\n",
    "for dset in tqdm(nwb_dandisets):\n",
    "    raw_metadata = dset.get_raw_metadata()\n",
    "\n",
    "    approaches = raw_metadata['assetsSummary'].get('approach', [])\n",
    "    species = raw_metadata['assetsSummary'].get('species', [])\n",
    "    if (\n",
    "        any('electrophysiological' in a.get('name', '') for a in approaches) and\n",
    "        any('behavioral' in a.get('name', '') for a in approaches)   \n",
    "    ):\n",
    "        brbe_nwb_dandisets.append(dset)\n",
    "\n",
    "print(len(brbe_nwb_dandisets))"
   ]
  },
  {
   "cell_type": "markdown",
   "metadata": {},
   "source": [
    "## specify species"
   ]
  },
  {
   "cell_type": "code",
   "execution_count": 9,
   "metadata": {},
   "outputs": [
    {
     "data": {
      "application/vnd.jupyter.widget-view+json": {
       "model_id": "0bea6e9c9c234abe9533d6a7a9c952c5",
       "version_major": 2,
       "version_minor": 0
      },
      "text/plain": [
       "  0%|          | 0/420 [00:00<?, ?it/s]"
      ]
     },
     "metadata": {},
     "output_type": "display_data"
    },
    {
     "name": "stdout",
     "output_type": "stream",
     "text": [
      "10\n"
     ]
    }
   ],
   "source": [
    "brbe_nwb_dandisets = []\n",
    "\n",
    "for dset in tqdm(nwb_dandisets):\n",
    "    raw_metadata = dset.get_raw_metadata()\n",
    "\n",
    "    approaches = raw_metadata['assetsSummary'].get('approach', [])\n",
    "    species = raw_metadata['assetsSummary'].get('species', [])\n",
    "    if (\n",
    "        any('electrophysiological' in a.get('name', '') for a in approaches) and\n",
    "        any('behavioral' in a.get('name', '') for a in approaches) and\n",
    "        \n",
    "        isinstance(species[0], dict) and  \n",
    "        'monkey' in species[0].get('name', '')  \n",
    "    ):\n",
    "        brbe_nwb_dandisets.append(dset)\n",
    "\n",
    "print(len(brbe_nwb_dandisets))"
   ]
  },
  {
   "cell_type": "markdown",
   "metadata": {},
   "source": [
    "## number of units"
   ]
  },
  {
   "cell_type": "code",
   "execution_count": 99,
   "metadata": {},
   "outputs": [
    {
     "data": {
      "application/vnd.jupyter.widget-view+json": {
       "model_id": "8894b66de61a4f11b8d80af80f41f9bb",
       "version_major": 2,
       "version_minor": 0
      },
      "text/plain": [
       "  0%|          | 0/38 [00:00<?, ?it/s]"
      ]
     },
     "metadata": {},
     "output_type": "display_data"
    }
   ],
   "source": [
    "a = brbe_nwb_dandisets[-1]\n",
    "dandiset_id = a.get_raw_metadata()['id'].split('/')[0].split(':')[-1]\n",
    "\n",
    "s3_urls = get_s3_urls_and_dandi_paths(dandiset_id=dandiset_id)\n",
    "\n",
    "num_units_per_asset = dict()\n",
    "for s3_url in tqdm(s3_urls):\n",
    "\n",
    "    rem_file = remfile.File(s3_url)\n",
    "    h5py_file = h5py.File(rem_file, \"r\")\n",
    "    io = NWBHDF5IO(file=h5py_file, load_namespaces=True)\n",
    "    nwbfile = io.read()\n",
    "    \n",
    "    if nwbfile.units:\n",
    "        num_units_per_asset.update({s3_url: len(nwbfile.units)})\n",
    "\n",
    "print(len(num_units_per_asset))"
   ]
  },
  {
   "cell_type": "markdown",
   "metadata": {},
   "source": [
    "# read nwb via lindi "
   ]
  },
  {
   "cell_type": "code",
   "execution_count": 127,
   "metadata": {},
   "outputs": [
    {
     "name": "stdout",
     "output_type": "stream",
     "text": [
      "{'https://dandiarchive.s3.amazonaws.com/blobs/d4b/a5d/d4ba5d3e-31ac-4fd6-99e2-1ccdc6a0c5cf': 'sub-Reggie/sub-Reggie_ses-20170117T104643_behavior+ecephys.nwb', 'https://dandiarchive.s3.amazonaws.com/blobs/f69/54d/f6954daf-3b6e-4b0f-876f-fd209d974d5b': 'sub-Reggie/sub-Reggie_ses-20170125T100800_behavior+ecephys.nwb', 'https://dandiarchive.s3.amazonaws.com/blobs/fb1/0e9/fb10e9ca-c13c-45f6-a51c-1bad0067e36d': 'sub-Reggie/sub-Reggie_ses-20170124T094957_behavior+ecephys.nwb', 'https://dandiarchive.s3.amazonaws.com/blobs/264/4ee/2644ee67-8ce0-4069-8f68-30ebebf8e848': 'sub-Reggie/sub-Reggie_ses-20170119T123128_behavior+ecephys.nwb', 'https://dandiarchive.s3.amazonaws.com/blobs/111/465/11146555-c5a3-4654-83ee-5f2b84a792d3': 'sub-Reggie/sub-Reggie_ses-20170118T094022_behavior+ecephys.nwb', 'https://dandiarchive.s3.amazonaws.com/blobs/a52/253/a5225398-ec1c-4325-8bbe-83dc73fa8c87': 'sub-Reggie/sub-Reggie_ses-20170115T125333_behavior+ecephys.nwb', 'https://dandiarchive.s3.amazonaws.com/blobs/e00/a6a/e00a6a97-dd50-4ec3-a1ee-932543ed38b1': 'sub-Reggie/sub-Reggie_ses-20170116T102856_behavior+ecephys.nwb', 'https://dandiarchive.s3.amazonaws.com/blobs/9e2/ad0/9e2ad05f-4bb1-4bc3-8874-f4ca2de5edd0': 'sub-JenkinsC/sub-JenkinsC_ses-20151015T151424_behavior+ecephys.nwb', 'https://dandiarchive.s3.amazonaws.com/blobs/117/dbb/117dbbb0-fb94-40ba-b80d-14ab43b6b4c5': 'sub-JenkinsC/sub-JenkinsC_ses-20151002T143706_behavior+ecephys.nwb', 'https://dandiarchive.s3.amazonaws.com/blobs/311/9c7/3119c7c6-cab8-4e67-b342-472f50ee375d': 'sub-JenkinsC/sub-JenkinsC_ses-20151001T150307_behavior+ecephys.nwb', 'https://dandiarchive.s3.amazonaws.com/blobs/3ee/fc8/3eefc88e-f43f-4b4e-a8ef-8e233322d3f1': 'sub-JenkinsC/sub-JenkinsC_ses-20160127T110630_behavior+ecephys.nwb', 'https://dandiarchive.s3.amazonaws.com/blobs/6e0/3ca/6e03ca33-3433-4116-bc3b-423542ffa8f8': 'sub-JenkinsC/sub-JenkinsC_ses-20160128T160749_behavior+ecephys.nwb'}\n",
      "['sub-Reggie/sub-Reggie_ses-20170117T104643_behavior+ecephys.nwb', 'sub-Reggie/sub-Reggie_ses-20170125T100800_behavior+ecephys.nwb', 'sub-Reggie/sub-Reggie_ses-20170124T094957_behavior+ecephys.nwb', 'sub-Reggie/sub-Reggie_ses-20170119T123128_behavior+ecephys.nwb', 'sub-Reggie/sub-Reggie_ses-20170118T094022_behavior+ecephys.nwb', 'sub-Reggie/sub-Reggie_ses-20170115T125333_behavior+ecephys.nwb', 'sub-Reggie/sub-Reggie_ses-20170116T102856_behavior+ecephys.nwb', 'sub-JenkinsC/sub-JenkinsC_ses-20151015T151424_behavior+ecephys.nwb', 'sub-JenkinsC/sub-JenkinsC_ses-20151002T143706_behavior+ecephys.nwb', 'sub-JenkinsC/sub-JenkinsC_ses-20151001T150307_behavior+ecephys.nwb', 'sub-JenkinsC/sub-JenkinsC_ses-20160127T110630_behavior+ecephys.nwb', 'sub-JenkinsC/sub-JenkinsC_ses-20160128T160749_behavior+ecephys.nwb']\n"
     ]
    }
   ],
   "source": [
    "dandiset_id = brbe_nwb_dandisets[2].get_raw_metadata()['id'].split('/')[0].split(':')[-1]\n",
    "s3_urls = get_s3_urls_and_dandi_paths(dandiset_id=dandiset_id)\n",
    "print(s3_urls)\n",
    "print(list(s3_urls.values()))"
   ]
  },
  {
   "cell_type": "code",
   "execution_count": 128,
   "metadata": {},
   "outputs": [],
   "source": [
    "filepath = list(s3_urls.values())[0]\n",
    "\n",
    "with DandiAPIClient() as client:\n",
    "    asset = client.get_dandiset(dandiset_id).get_asset_by_path(filepath)\n",
    "    s3_url = asset.get_content_url(follow_redirects=1, strip_query=True)\n",
    "f = lindi.LindiH5pyFile.from_hdf5_file(asset.download_url)\n",
    "nwb = pynwb.NWBHDF5IO(file=f, mode='r').read()"
   ]
  },
  {
   "cell_type": "code",
   "execution_count": 129,
   "metadata": {},
   "outputs": [
    {
     "data": {
      "text/plain": [
       "{'23764436-c38f-4004-bc89-05b98e3950ea': root pynwb.file.NWBFile at 0x5032973392\n",
       " Fields:\n",
       "   devices: {\n",
       "     Utah Array(M1) <class 'pynwb.device.Device'>,\n",
       "     Utah Array(PMd) <class 'pynwb.device.Device'>\n",
       "   }\n",
       "   electrode_groups: {\n",
       "     1 <class 'pynwb.ecephys.ElectrodeGroup'>,\n",
       "     2 <class 'pynwb.ecephys.ElectrodeGroup'>\n",
       "   }\n",
       "   electrodes: electrodes <class 'pynwb.ecephys.ElectrodesTable'>\n",
       "   experiment_description: center out task for Monkeys\n",
       "   experimenter: ['Blue Scheffer' 'Nir Even-Chen']\n",
       "   file_create_date: [datetime.datetime(2021, 8, 2, 3, 47, 31, 488379, tzinfo=tzoffset(None, -14400))]\n",
       "   identifier: 06f1c03a-c6aa-45a4-86e8-1a71175af294\n",
       "   institution: Stanford University\n",
       "   intervals: {\n",
       "     trials <class 'pynwb.epoch.TimeIntervals'>\n",
       "   }\n",
       "   processing: {\n",
       "     behavior <class 'pynwb.base.ProcessingModule'>,\n",
       "     ecephys <class 'pynwb.base.ProcessingModule'>\n",
       "   }\n",
       "   related_publications: ['10.1371/journal.pcbi.1006808']\n",
       "   session_description: no description\n",
       "   session_start_time: 2017-01-17 10:46:43.492998-05:00\n",
       "   stimulus: {\n",
       "     juice_reward <class 'pynwb.base.TimeSeries'>\n",
       "   }\n",
       "   subject: subject pynwb.file.Subject at 0x4997058192\n",
       " Fields:\n",
       "   sex: M\n",
       "   species: Macaca mulatta\n",
       "   subject_id: Reggie\n",
       " \n",
       "   timestamps_reference_time: 2017-01-17 10:46:43.492998-05:00\n",
       "   trials: trials <class 'pynwb.epoch.TimeIntervals'>\n",
       "   units: units <class 'pynwb.misc.Units'>,\n",
       " '11b9d4af-f716-4fcc-aa46-f123c76a663c': units pynwb.misc.Units at 0x5032978512\n",
       " Fields:\n",
       "   colnames: ['spike_times' 'obs_intervals' 'electrodes' 'electrode_group']\n",
       "   columns: (\n",
       "     spike_times_index <class 'hdmf.common.table.VectorIndex'>,\n",
       "     spike_times <class 'hdmf.common.table.VectorData'>,\n",
       "     obs_intervals_index <class 'hdmf.common.table.VectorIndex'>,\n",
       "     obs_intervals <class 'hdmf.common.table.VectorData'>,\n",
       "     electrodes_index <class 'hdmf.common.table.VectorIndex'>,\n",
       "     electrodes <class 'hdmf.common.table.DynamicTableRegion'>,\n",
       "     electrode_group <class 'hdmf.common.table.VectorData'>\n",
       "   )\n",
       "   description: Autogenerated by NWBFile\n",
       "   id: id <class 'hdmf.common.table.ElementIdentifiers'>\n",
       "   waveform_unit: volts,\n",
       " '533eb805-bb2b-4fa6-b382-c507bb12e697': <hdmf.common.table.VectorData at 0x12c1d81b0>,\n",
       " '09bd2e10-9d4b-4a54-acba-00e905a13eb0': electrodes hdmf.common.table.DynamicTableRegion at 0x4814559696\n",
       "     Target table: electrodes pynwb.ecephys.ElectrodesTable at 0x5061811792,\n",
       " 'aa103d1f-05ba-4c7e-b795-0ab0b9c0dce4': <hdmf.common.table.VectorIndex at 0x12dfb53d0>,\n",
       " 'fa9187fb-ef9f-4d9a-a7e6-8dca08b49888': <hdmf.common.table.VectorData at 0x128a56c50>,\n",
       " '29e23ab4-53d8-4c58-928b-dbd43b7e03ab': <hdmf.common.table.VectorIndex at 0x12d0fa0b0>,\n",
       " '4f85ab1e-30aa-49b0-ae5b-8667d36a9007': <hdmf.common.table.VectorData at 0x128a56af0>,\n",
       " 'c24e5c8d-522c-435f-9849-1f271a312eb2': <hdmf.common.table.VectorIndex at 0x12d0fa6d0>,\n",
       " 'b2dd3f1f-51ad-4fc0-9a65-2576aa629746': <hdmf.common.table.ElementIdentifiers at 0x11ef86580>,\n",
       " '2d05ad8e-b6e4-4cce-b92e-9231a7b0f16d': subject pynwb.file.Subject at 0x4997058192\n",
       " Fields:\n",
       "   sex: M\n",
       "   species: Macaca mulatta\n",
       "   subject_id: Reggie,\n",
       " 'a5d9ad74-8f8f-49dd-a308-d04662915018': trials pynwb.epoch.TimeIntervals at 0x4997063664\n",
       " Fields:\n",
       "   colnames: ['start_time' 'stop_time' 'is_successful' 'task_id' 'version_id'\n",
       "  'reach_time' 'target_hold_time' 'fail_time' 'target_pos' 'target_size'\n",
       "  'barrier_points' 'go_cue_time' 'target_acquire_time' 'target_held_time'\n",
       "  'target_shown_time' 'timeseries']\n",
       "   columns: (\n",
       "     start_time <class 'hdmf.common.table.VectorData'>,\n",
       "     stop_time <class 'hdmf.common.table.VectorData'>,\n",
       "     is_successful <class 'hdmf.common.table.VectorData'>,\n",
       "     task_id <class 'hdmf.common.table.VectorData'>,\n",
       "     version_id <class 'hdmf.common.table.VectorData'>,\n",
       "     reach_time <class 'hdmf.common.table.VectorData'>,\n",
       "     target_hold_time <class 'hdmf.common.table.VectorData'>,\n",
       "     fail_time <class 'hdmf.common.table.VectorData'>,\n",
       "     target_pos_index <class 'hdmf.common.table.VectorIndex'>,\n",
       "     target_pos <class 'hdmf.common.table.VectorData'>,\n",
       "     target_size_index <class 'hdmf.common.table.VectorIndex'>,\n",
       "     target_size <class 'hdmf.common.table.VectorData'>,\n",
       "     barrier_points_index <class 'hdmf.common.table.VectorIndex'>,\n",
       "     barrier_points <class 'hdmf.common.table.VectorData'>,\n",
       "     go_cue_time <class 'hdmf.common.table.VectorData'>,\n",
       "     target_acquire_time_index <class 'hdmf.common.table.VectorIndex'>,\n",
       "     target_acquire_time <class 'hdmf.common.table.VectorData'>,\n",
       "     target_held_time <class 'hdmf.common.table.VectorData'>,\n",
       "     target_shown_time <class 'hdmf.common.table.VectorData'>,\n",
       "     timeseries_index <class 'hdmf.common.table.VectorIndex'>,\n",
       "     timeseries <class 'pynwb.base.TimeSeriesReferenceVectorData'>\n",
       "   )\n",
       "   description: experimental trials\n",
       "   id: id <class 'hdmf.common.table.ElementIdentifiers'>,\n",
       " 'f3fb99e5-d315-422b-905b-4f0bd7f7a855': <pynwb.base.TimeSeriesReferenceVectorData at 0x128a54730>,\n",
       " '8e8a0a8b-b795-40c6-bf96-020897a4b171': <hdmf.common.table.VectorIndex at 0x10c227020>,\n",
       " '4c18685c-b467-4ffe-a03b-5a00a509bc6f': <hdmf.common.table.VectorData at 0x128a54d60>,\n",
       " '34f24eae-84ae-43ff-8de9-694420180fa7': <hdmf.common.table.VectorData at 0x128a54890>,\n",
       " '8f7e9822-ecc8-46df-89dc-deaca6fb49fa': <hdmf.common.table.VectorData at 0x128a54680>,\n",
       " 'b4b43394-8525-4f43-8722-80d821330c82': <hdmf.common.table.VectorIndex at 0x12dbe2e50>,\n",
       " '00e45237-30c7-4237-b6b6-2ebc70bddb01': <hdmf.common.table.VectorData at 0x128a54e10>,\n",
       " '1b841f49-62db-464f-948d-e6a10a5044cd': <hdmf.common.table.VectorData at 0x128a547e0>,\n",
       " 'f87795dd-de49-4340-a603-5973ac71f7d5': <hdmf.common.table.VectorIndex at 0x12dbe3150>,\n",
       " '81a552ab-5b1a-43f8-94cf-cf862d27d5d3': <hdmf.common.table.VectorData at 0x128a550d0>,\n",
       " 'bdf57166-d87b-4240-a14d-1435208a3b86': <hdmf.common.table.VectorIndex at 0x11ef815e0>,\n",
       " 'f93b54a1-40f7-4429-9f3d-21c0d638938a': <hdmf.common.table.VectorData at 0x128a54b50>,\n",
       " '15a58ac3-c3af-4a4a-ad02-a9564f9a5822': <hdmf.common.table.VectorIndex at 0x11ef83d40>,\n",
       " 'f9b1798b-372e-44e6-a22c-f895c71acc83': <hdmf.common.table.VectorData at 0x128a54cb0>,\n",
       " '542c8b9d-ac08-4f96-81f2-ed15a281d1ba': <hdmf.common.table.VectorData at 0x128a549f0>,\n",
       " 'c3ef366c-5985-4050-8427-50d6c61f07ee': <hdmf.common.table.VectorData at 0x128a545d0>,\n",
       " '79850c94-5f45-4d0c-9e11-427c76f61d5c': <hdmf.common.table.VectorData at 0x128a56830>,\n",
       " 'fe3b0b66-6f29-4758-a75d-2540b79773d3': <hdmf.common.table.VectorData at 0x128a56200>,\n",
       " 'a47a0d7d-250b-48e2-83d0-13efad1ae40b': <hdmf.common.table.VectorData at 0x128a55a70>,\n",
       " 'cf58a31e-0165-4d8a-a0fe-48c36558e7b2': <hdmf.common.table.VectorData at 0x128a54520>,\n",
       " '8c975311-af74-4ae6-9a25-fc435b0729da': <hdmf.common.table.VectorData at 0x128a56db0>,\n",
       " 'c3d9763b-d979-4220-9545-95f64d98f4fa': <hdmf.common.table.ElementIdentifiers at 0x11ef86360>,\n",
       " '3b29cc6e-6f30-45d8-abfc-ff3ab03fd768': Utah Array(PMd) pynwb.device.Device at 0x4997067008\n",
       " Fields:\n",
       "   description: 96 channel utah array\n",
       "   manufacturer: BlackRock Microsystems,\n",
       " '526b95f2-4b3a-4316-b4c1-6553c10bbffc': Utah Array(M1) pynwb.device.Device at 0x5061811472\n",
       " Fields:\n",
       "   description: 96 channel utah array\n",
       "   manufacturer: BlackRock Microsystems,\n",
       " 'f1eb90bc-b97a-4c47-b04d-993799816690': 2 pynwb.ecephys.ElectrodeGroup at 0x4997065488\n",
       " Fields:\n",
       "   description: array corresponding to device implanted at PMd\n",
       "   device: Utah Array(PMd) pynwb.device.Device at 0x4997067008\n",
       " Fields:\n",
       "   description: 96 channel utah array\n",
       "   manufacturer: BlackRock Microsystems\n",
       " \n",
       "   location: Caudal, dorsal Pre-motor cortex, Left hemisphere,\n",
       " '70f2468b-6567-4506-a08f-80bd4fc2d1b3': 1 pynwb.ecephys.ElectrodeGroup at 0x5032978832\n",
       " Fields:\n",
       "   description: array corresponding to device implanted at M1\n",
       "   device: Utah Array(M1) pynwb.device.Device at 0x5061811472\n",
       " Fields:\n",
       "   description: 96 channel utah array\n",
       "   manufacturer: BlackRock Microsystems\n",
       " \n",
       "   location: M1 in Motor Cortex, left hemisphere,\n",
       " '3b927148-d043-4d5f-acc8-b0a1bbf0f837': electrodes pynwb.ecephys.ElectrodesTable at 0x5061811792\n",
       " Fields:\n",
       "   colnames: ['x' 'y' 'z' 'imp' 'location' 'filtering' 'group' 'group_name' 'gain'\n",
       "  'offset']\n",
       "   columns: (\n",
       "     x <class 'hdmf.common.table.VectorData'>,\n",
       "     y <class 'hdmf.common.table.VectorData'>,\n",
       "     z <class 'hdmf.common.table.VectorData'>,\n",
       "     imp <class 'hdmf.common.table.VectorData'>,\n",
       "     location <class 'hdmf.common.table.VectorData'>,\n",
       "     filtering <class 'hdmf.common.table.VectorData'>,\n",
       "     group <class 'hdmf.common.table.VectorData'>,\n",
       "     group_name <class 'hdmf.common.table.VectorData'>,\n",
       "     gain <class 'hdmf.common.table.VectorData'>,\n",
       "     offset <class 'hdmf.common.table.VectorData'>\n",
       "   )\n",
       "   description: metadata about extracellular electrodes\n",
       "   id: id <class 'hdmf.common.table.ElementIdentifiers'>,\n",
       " '9ed6cb96-fc3a-48de-95b4-44d8fd68d530': <hdmf.common.table.VectorData at 0x128a56d00>,\n",
       " 'e52954c9-c4e2-4355-85fb-84b55a3d25bb': <hdmf.common.table.VectorData at 0x128a56ba0>,\n",
       " '4f32ba4b-13c5-443c-aae4-f9848ed95ef2': <hdmf.common.table.VectorData at 0x128a56e60>,\n",
       " 'de36a23d-89cf-4d3a-a346-fe47895b803a': <hdmf.common.table.VectorData at 0x128a55b20>,\n",
       " '62cf3082-a3c0-468f-a587-0171e1ea9e3f': <hdmf.common.table.VectorData at 0x128a56a40>,\n",
       " 'e2106bd3-71f1-4f9d-a973-b4c63fc61f6c': <hdmf.common.table.VectorData at 0x128a54ec0>,\n",
       " 'baacd2af-d90b-4a3a-80d2-e25e7d4603a2': <hdmf.common.table.VectorData at 0x128a55020>,\n",
       " '5f3a8290-1422-40c6-bce7-4298087ef872': <hdmf.common.table.VectorData at 0x128a54f70>,\n",
       " '1017f89c-a561-4e08-9cce-1ed530d07d49': <hdmf.common.table.VectorData at 0x128a54c00>,\n",
       " '2a1f0e14-ad04-4251-ac23-ce02ba24fe1d': <hdmf.common.table.VectorData at 0x128a54940>,\n",
       " '411d4f01-f930-4d86-bc28-7c37dfae7ab0': <hdmf.common.table.ElementIdentifiers at 0x12d1696d0>,\n",
       " 'abac7f72-5098-4e0b-af36-c0759c99c83e': ecephys pynwb.base.ProcessingModule at 0x5083537072\n",
       " Fields:\n",
       "   data_interfaces: {\n",
       "     LFP <class 'pynwb.ecephys.LFP'>\n",
       "   }\n",
       "   description: Intermediate data from extracellular electrophysiology recordings, e.g., LFP.,\n",
       " 'd02971ef-13ea-4a92-b603-f0e3c296130f': LFP pynwb.ecephys.LFP at 0x4478416080\n",
       " Fields:\n",
       "   electrical_series: {\n",
       "     M1_3 <class 'pynwb.ecephys.ElectricalSeries'>,\n",
       "     PMd_3 <class 'pynwb.ecephys.ElectricalSeries'>\n",
       "   },\n",
       " '4029b167-eab5-478e-a95f-3f64293fc2b9': PMd_3 pynwb.ecephys.ElectricalSeries at 0x5083535344\n",
       " Fields:\n",
       "   comments: Generated from SpikeInterface::NwbRecordingExtractor\n",
       "   conversion: 1e-06\n",
       "   data: <LindiH5pyDataset: /processing/ecephys/LFP/PMd_3/data>\n",
       "   description: LFP signal for array PMd_3, segment 3data for both arrays A,B in the same segment should be, but is not of the same time lengthand cannot be synced due to lack of time stamps. Ignore the starting times.\n",
       "   electrodes: electrodes <class 'hdmf.common.table.DynamicTableRegion'>\n",
       "   offset: 0.0\n",
       "   rate: 2000.0\n",
       "   resolution: -1.0\n",
       "   starting_time: nan\n",
       "   starting_time_unit: seconds\n",
       "   unit: volts,\n",
       " '2294098c-4955-43c6-91f7-bfbf264f5110': electrodes hdmf.common.table.DynamicTableRegion at 0x4977490896\n",
       "     Target table: electrodes pynwb.ecephys.ElectrodesTable at 0x5061811792,\n",
       " '62eaed88-e799-4afa-af34-8e3841e1f16e': M1_3 pynwb.ecephys.ElectricalSeries at 0x4997066704\n",
       " Fields:\n",
       "   comments: Generated from SpikeInterface::NwbRecordingExtractor\n",
       "   conversion: 1e-06\n",
       "   data: <LindiH5pyDataset: /processing/ecephys/LFP/M1_3/data>\n",
       "   description: LFP signal for array M1_3, segment 3data for both arrays A,B in the same segment should be, but is not of the same time lengthand cannot be synced due to lack of time stamps. Ignore the starting times.\n",
       "   electrodes: electrodes <class 'hdmf.common.table.DynamicTableRegion'>\n",
       "   offset: 0.0\n",
       "   rate: 2000.0\n",
       "   resolution: -1.0\n",
       "   starting_time: nan\n",
       "   starting_time_unit: seconds\n",
       "   unit: volts,\n",
       " '8d70bbcb-dba1-4415-8d1d-25b1bbc5543e': electrodes hdmf.common.table.DynamicTableRegion at 0x5083536496\n",
       "     Target table: electrodes pynwb.ecephys.ElectrodesTable at 0x5061811792,\n",
       " '01f7dd8c-4e8a-4b5a-9f5e-2722463320da': behavior pynwb.base.ProcessingModule at 0x4997064880\n",
       " Fields:\n",
       "   data_interfaces: {\n",
       "     Position <class 'pynwb.behavior.Position'>\n",
       "   }\n",
       "   description: contains monkey movement data,\n",
       " '813b1007-8d91-4129-9bbd-a1c12b67ecdf': Position pynwb.behavior.Position at 0x5062442064\n",
       " Fields:\n",
       "   spatial_series: {\n",
       "     Cursor <class 'pynwb.behavior.SpatialSeries'>,\n",
       "     DecodePos <class 'pynwb.behavior.SpatialSeries'>,\n",
       "     Eye <class 'pynwb.behavior.SpatialSeries'>,\n",
       "     Hand <class 'pynwb.behavior.SpatialSeries'>\n",
       "   },\n",
       " '103dccc1-6ea1-4494-9abc-0c9860455fd9': Hand pynwb.behavior.SpatialSeries at 0x4977489536\n",
       " Fields:\n",
       "   comments: no comments\n",
       "   conversion: nan\n",
       "   data: <LindiH5pyDataset: /processing/behavior/Position/Hand/data>\n",
       "   description: hand pos in x,y,z\n",
       "   interval: 1\n",
       "   offset: 0.0\n",
       "   reference_frame: screen center\n",
       "   resolution: -1.0\n",
       "   timestamps: <LindiH5pyDataset: /processing/behavior/Position/Hand/timestamps>\n",
       "   timestamps_unit: seconds\n",
       "   unit: meters,\n",
       " 'ef1a0b65-9e11-4d12-b2cb-93971fb4acab': Eye pynwb.behavior.SpatialSeries at 0x5051420112\n",
       " Fields:\n",
       "   comments: no comments\n",
       "   conversion: nan\n",
       "   data: <LindiH5pyDataset: /processing/behavior/Position/Eye/data>\n",
       "   description: pos of eye in x,y\n",
       "   interval: 1\n",
       "   offset: 0.0\n",
       "   reference_frame: screen center\n",
       "   resolution: -1.0\n",
       "   timestamps: <LindiH5pyDataset: /processing/behavior/Position/Eye/timestamps>\n",
       "   timestamps_unit: seconds\n",
       "   unit: meters,\n",
       " '5b461186-c8be-45cb-8d53-5e6a99c55e33': DecodePos pynwb.behavior.SpatialSeries at 0x4997059408\n",
       " Fields:\n",
       "   comments: no comments\n",
       "   conversion: nan\n",
       "   data: <LindiH5pyDataset: /processing/behavior/Position/DecodePos/data>\n",
       "   description: decoded pos in x,y\n",
       "   interval: 1\n",
       "   offset: 0.0\n",
       "   reference_frame: screen center\n",
       "   resolution: -1.0\n",
       "   timestamps: <LindiH5pyDataset: /processing/behavior/Position/DecodePos/timestamps>\n",
       "   timestamps_unit: seconds\n",
       "   unit: meters,\n",
       " 'f7e5a35b-ef24-462c-81ec-4b8ca5baac23': Cursor pynwb.behavior.SpatialSeries at 0x4997068832\n",
       " Fields:\n",
       "   comments: no comments\n",
       "   conversion: nan\n",
       "   data: <LindiH5pyDataset: /processing/behavior/Position/Cursor/data>\n",
       "   description: cursor pos on screen in x,y\n",
       "   interval: 1\n",
       "   offset: 0.0\n",
       "   reference_frame: screen center\n",
       "   resolution: -1.0\n",
       "   timestamps: <LindiH5pyDataset: /processing/behavior/Position/Cursor/timestamps>\n",
       "   timestamps_unit: seconds\n",
       "   unit: meters,\n",
       " '827831d3-183d-43be-ba55-cc7efe64e797': juice_reward pynwb.base.TimeSeries at 0x4497017904\n",
       " Fields:\n",
       "   comments: no comments\n",
       "   conversion: 1.0\n",
       "   data: <LindiH5pyDataset: /stimulus/presentation/juice_reward/data>\n",
       "   description: 1 is when reward was presented\n",
       "   interval: 1\n",
       "   offset: 0.0\n",
       "   resolution: -1.0\n",
       "   timestamps: <LindiH5pyDataset: /stimulus/presentation/juice_reward/timestamps>\n",
       "   timestamps_unit: seconds\n",
       "   unit: n.a.}"
      ]
     },
     "execution_count": 129,
     "metadata": {},
     "output_type": "execute_result"
    }
   ],
   "source": [
    "nwb.objects"
   ]
  },
  {
   "cell_type": "code",
   "execution_count": 130,
   "metadata": {},
   "outputs": [
    {
     "data": {
      "text/plain": [
       "('start_time',\n",
       " 'stop_time',\n",
       " 'is_successful',\n",
       " 'task_id',\n",
       " 'version_id',\n",
       " 'reach_time',\n",
       " 'target_hold_time',\n",
       " 'fail_time',\n",
       " 'target_pos',\n",
       " 'target_size',\n",
       " 'barrier_points',\n",
       " 'go_cue_time',\n",
       " 'target_acquire_time',\n",
       " 'target_held_time',\n",
       " 'target_shown_time',\n",
       " 'timeseries')"
      ]
     },
     "execution_count": 130,
     "metadata": {},
     "output_type": "execute_result"
    }
   ],
   "source": [
    "trials = nwb.intervals[\"trials\"]\n",
    "trials.colnames"
   ]
  },
  {
   "cell_type": "code",
   "execution_count": 131,
   "metadata": {},
   "outputs": [
    {
     "data": {
      "text/plain": [
       "('x',\n",
       " 'y',\n",
       " 'z',\n",
       " 'imp',\n",
       " 'location',\n",
       " 'filtering',\n",
       " 'group',\n",
       " 'group_name',\n",
       " 'gain',\n",
       " 'offset')"
      ]
     },
     "execution_count": 131,
     "metadata": {},
     "output_type": "execute_result"
    }
   ],
   "source": [
    "electrodes = nwb.electrodes\n",
    "electrodes.colnames"
   ]
  },
  {
   "cell_type": "code",
   "execution_count": 132,
   "metadata": {},
   "outputs": [
    {
     "data": {
      "text/plain": [
       "<bound method HERDManager.get_linked_resources of root pynwb.file.NWBFile at 0x5032973392\n",
       "Fields:\n",
       "  devices: {\n",
       "    Utah Array(M1) <class 'pynwb.device.Device'>,\n",
       "    Utah Array(PMd) <class 'pynwb.device.Device'>\n",
       "  }\n",
       "  electrode_groups: {\n",
       "    1 <class 'pynwb.ecephys.ElectrodeGroup'>,\n",
       "    2 <class 'pynwb.ecephys.ElectrodeGroup'>\n",
       "  }\n",
       "  electrodes: electrodes <class 'pynwb.ecephys.ElectrodesTable'>\n",
       "  experiment_description: center out task for Monkeys\n",
       "  experimenter: ['Blue Scheffer' 'Nir Even-Chen']\n",
       "  file_create_date: [datetime.datetime(2021, 8, 2, 3, 47, 31, 488379, tzinfo=tzoffset(None, -14400))]\n",
       "  identifier: 06f1c03a-c6aa-45a4-86e8-1a71175af294\n",
       "  institution: Stanford University\n",
       "  intervals: {\n",
       "    trials <class 'pynwb.epoch.TimeIntervals'>\n",
       "  }\n",
       "  processing: {\n",
       "    behavior <class 'pynwb.base.ProcessingModule'>,\n",
       "    ecephys <class 'pynwb.base.ProcessingModule'>\n",
       "  }\n",
       "  related_publications: ['10.1371/journal.pcbi.1006808']\n",
       "  session_description: no description\n",
       "  session_start_time: 2017-01-17 10:46:43.492998-05:00\n",
       "  stimulus: {\n",
       "    juice_reward <class 'pynwb.base.TimeSeries'>\n",
       "  }\n",
       "  subject: subject pynwb.file.Subject at 0x4997058192\n",
       "Fields:\n",
       "  sex: M\n",
       "  species: Macaca mulatta\n",
       "  subject_id: Reggie\n",
       "\n",
       "  timestamps_reference_time: 2017-01-17 10:46:43.492998-05:00\n",
       "  trials: trials <class 'pynwb.epoch.TimeIntervals'>\n",
       "  units: units <class 'pynwb.misc.Units'>\n",
       ">"
      ]
     },
     "execution_count": 132,
     "metadata": {},
     "output_type": "execute_result"
    }
   ],
   "source": [
    "nwb.get_linked_resources"
   ]
  },
  {
   "cell_type": "code",
   "execution_count": 133,
   "metadata": {},
   "outputs": [
    {
     "name": "stdout",
     "output_type": "stream",
     "text": [
      "Cursor pynwb.behavior.SpatialSeries at 0x4997068832\n",
      "Fields:\n",
      "  comments: no comments\n",
      "  conversion: nan\n",
      "  data: <LindiH5pyDataset: /processing/behavior/Position/Cursor/data>\n",
      "  description: cursor pos on screen in x,y\n",
      "  interval: 1\n",
      "  offset: 0.0\n",
      "  reference_frame: screen center\n",
      "  resolution: -1.0\n",
      "  timestamps: <LindiH5pyDataset: /processing/behavior/Position/Cursor/timestamps>\n",
      "  timestamps_unit: seconds\n",
      "  unit: meters\n",
      "\n"
     ]
    },
    {
     "data": {
      "text/plain": [
       "array([0.   , 0.001, 0.002, 0.003, 0.004, 0.005, 0.006, 0.007, 0.008,\n",
       "       0.009])"
      ]
     },
     "execution_count": 133,
     "metadata": {},
     "output_type": "execute_result"
    }
   ],
   "source": [
    "print(nwb.processing['behavior']['Position'].spatial_series['Cursor'])\n",
    "nwb.processing['behavior']['Position'].spatial_series['Cursor'].timestamps[:10]"
   ]
  },
  {
   "cell_type": "code",
   "execution_count": 137,
   "metadata": {},
   "outputs": [],
   "source": [
    "ss = [x for x in nwb.objects.values() if isinstance(x, pynwb.behavior.SpatialSeries)]"
   ]
  },
  {
   "cell_type": "code",
   "execution_count": null,
   "metadata": {},
   "outputs": [],
   "source": []
  }
 ],
 "metadata": {
  "kernelspec": {
   "display_name": "bootcamp",
   "language": "python",
   "name": "python3"
  },
  "language_info": {
   "codemirror_mode": {
    "name": "ipython",
    "version": 3
   },
   "file_extension": ".py",
   "mimetype": "text/x-python",
   "name": "python",
   "nbconvert_exporter": "python",
   "pygments_lexer": "ipython3",
   "version": "3.13.2"
  }
 },
 "nbformat": 4,
 "nbformat_minor": 2
}
