{
 "cells": [
  {
   "cell_type": "markdown",
   "metadata": {},
   "source": [
    "based on notebooks in  \n",
    "https://github.com/dandi/example-notebooks/tree/master/tutorials/neurodatarehack_2024 "
   ]
  },
  {
   "cell_type": "code",
   "execution_count": 10,
   "metadata": {},
   "outputs": [],
   "source": [
    "import json\n",
    "import numpy as np\n",
    "from dandi.dandiapi import DandiAPIClient\n",
    "from tqdm.notebook import tqdm\n",
    "from isodate import parse_duration, Duration\n",
    "from datetime import datetime\n",
    "from warnings import simplefilter\n",
    "simplefilter(\"ignore\")  # Suppress namespace warnings from reading older NWB files\n",
    "\n",
    "from nwbinspector.tools import get_s3_urls_and_dandi_paths\n",
    "from pynwb import NWBHDF5IO\n",
    "import remfile\n",
    "import h5py\n",
    "\n",
    "import lindi, pynwb\n",
    "\n",
    "from dandi.dandiapi import DandiAPIClient\n",
    "\n"
   ]
  },
  {
   "cell_type": "code",
   "execution_count": 4,
   "metadata": {},
   "outputs": [],
   "source": [
    "client = DandiAPIClient()\n",
    "dandisets = list(client.get_dandisets())"
   ]
  },
  {
   "cell_type": "markdown",
   "metadata": {},
   "source": [
    "# nwb dandisets"
   ]
  },
  {
   "cell_type": "code",
   "execution_count": 5,
   "metadata": {},
   "outputs": [
    {
     "data": {
      "application/vnd.jupyter.widget-view+json": {
       "model_id": "ab4e155ff12f420089d3706dbfd9942e",
       "version_major": 2,
       "version_minor": 0
      },
      "text/plain": [
       "  0%|          | 0/697 [00:00<?, ?it/s]"
      ]
     },
     "metadata": {},
     "output_type": "display_data"
    },
    {
     "name": "stdout",
     "output_type": "stream",
     "text": [
      "There are currently 420 NWB datasets on DANDI!\n"
     ]
    }
   ],
   "source": [
    "nwb_dandisets = []\n",
    "\n",
    "for dandiset in tqdm(dandisets):\n",
    "    raw_metadata = dandiset.get_raw_metadata()\n",
    "\n",
    "    if any(\n",
    "        data_standard['identifier'] == \"RRID:SCR_015242\"  # this is the RRID for NWB\n",
    "        for data_standard in raw_metadata['assetsSummary'].get('dataStandard', [])\n",
    "    ):\n",
    "        nwb_dandisets.append(dandiset)\n",
    "print(f\"There are currently {len(nwb_dandisets)} NWB datasets on DANDI!\")"
   ]
  },
  {
   "cell_type": "markdown",
   "metadata": {},
   "source": [
    "# dandisets with ephys and behavior  \n"
   ]
  },
  {
   "cell_type": "code",
   "execution_count": 6,
   "metadata": {},
   "outputs": [],
   "source": [
    "raw_metadata = dandisets[0].get_raw_metadata()"
   ]
  },
  {
   "cell_type": "code",
   "execution_count": 7,
   "metadata": {},
   "outputs": [
    {
     "data": {
      "text/plain": [
       "'House mouse'"
      ]
     },
     "execution_count": 7,
     "metadata": {},
     "output_type": "execute_result"
    }
   ],
   "source": [
    "raw_metadata['assetsSummary']['species'][0].get('name', '')"
   ]
  },
  {
   "cell_type": "code",
   "execution_count": 8,
   "metadata": {},
   "outputs": [
    {
     "data": {
      "application/vnd.jupyter.widget-view+json": {
       "model_id": "4bd0663ccd73411b865b014b2cf0469a",
       "version_major": 2,
       "version_minor": 0
      },
      "text/plain": [
       "  0%|          | 0/420 [00:00<?, ?it/s]"
      ]
     },
     "metadata": {},
     "output_type": "display_data"
    },
    {
     "name": "stdout",
     "output_type": "stream",
     "text": [
      "64\n"
     ]
    }
   ],
   "source": [
    "brbe_nwb_dandisets = []\n",
    "\n",
    "for dset in tqdm(nwb_dandisets):\n",
    "    raw_metadata = dset.get_raw_metadata()\n",
    "\n",
    "    approaches = raw_metadata['assetsSummary'].get('approach', [])\n",
    "    species = raw_metadata['assetsSummary'].get('species', [])\n",
    "    if (\n",
    "        any('electrophysiological' in a.get('name', '') for a in approaches) and\n",
    "        any('behavioral' in a.get('name', '') for a in approaches)   \n",
    "    ):\n",
    "        brbe_nwb_dandisets.append(dset)\n",
    "\n",
    "print(len(brbe_nwb_dandisets))"
   ]
  },
  {
   "cell_type": "markdown",
   "metadata": {},
   "source": [
    "## specify species"
   ]
  },
  {
   "cell_type": "code",
   "execution_count": 9,
   "metadata": {},
   "outputs": [
    {
     "data": {
      "application/vnd.jupyter.widget-view+json": {
       "model_id": "0bea6e9c9c234abe9533d6a7a9c952c5",
       "version_major": 2,
       "version_minor": 0
      },
      "text/plain": [
       "  0%|          | 0/420 [00:00<?, ?it/s]"
      ]
     },
     "metadata": {},
     "output_type": "display_data"
    },
    {
     "name": "stdout",
     "output_type": "stream",
     "text": [
      "10\n"
     ]
    }
   ],
   "source": [
    "brbe_nwb_dandisets = []\n",
    "\n",
    "for dset in tqdm(nwb_dandisets):\n",
    "    raw_metadata = dset.get_raw_metadata()\n",
    "\n",
    "    approaches = raw_metadata['assetsSummary'].get('approach', [])\n",
    "    species = raw_metadata['assetsSummary'].get('species', [])\n",
    "    if (\n",
    "        any('electrophysiological' in a.get('name', '') for a in approaches) and\n",
    "        any('behavioral' in a.get('name', '') for a in approaches) and\n",
    "        \n",
    "        isinstance(species[0], dict) and  \n",
    "        'monkey' in species[0].get('name', '')  \n",
    "    ):\n",
    "        brbe_nwb_dandisets.append(dset)\n",
    "\n",
    "print(len(brbe_nwb_dandisets))"
   ]
  },
  {
   "cell_type": "markdown",
   "metadata": {},
   "source": [
    "## number of units"
   ]
  },
  {
   "cell_type": "code",
   "execution_count": 99,
   "metadata": {},
   "outputs": [
    {
     "data": {
      "application/vnd.jupyter.widget-view+json": {
       "model_id": "8894b66de61a4f11b8d80af80f41f9bb",
       "version_major": 2,
       "version_minor": 0
      },
      "text/plain": [
       "  0%|          | 0/38 [00:00<?, ?it/s]"
      ]
     },
     "metadata": {},
     "output_type": "display_data"
    }
   ],
   "source": [
    "a = brbe_nwb_dandisets[-1]\n",
    "dandiset_id = a.get_raw_metadata()['id'].split('/')[0].split(':')[-1]\n",
    "\n",
    "s3_urls = get_s3_urls_and_dandi_paths(dandiset_id=dandiset_id)\n",
    "\n",
    "num_units_per_asset = dict()\n",
    "for s3_url in tqdm(s3_urls):\n",
    "\n",
    "    rem_file = remfile.File(s3_url)\n",
    "    h5py_file = h5py.File(rem_file, \"r\")\n",
    "    io = NWBHDF5IO(file=h5py_file, load_namespaces=True)\n",
    "    nwbfile = io.read()\n",
    "    \n",
    "    if nwbfile.units:\n",
    "        num_units_per_asset.update({s3_url: len(nwbfile.units)})\n",
    "\n",
    "print(len(num_units_per_asset))"
   ]
  },
  {
   "cell_type": "markdown",
   "metadata": {},
   "source": [
    "# read nwb via lindi "
   ]
  },
  {
   "cell_type": "code",
   "execution_count": 82,
   "metadata": {},
   "outputs": [
    {
     "name": "stdout",
     "output_type": "stream",
     "text": [
      "{'https://dandiarchive.s3.amazonaws.com/blobs/2b3/75e/2b375e1a-120d-4fc0-9d80-255712170214': 'sub-Jenkins/sub-Jenkins_ses-20090912_behavior+ecephys.nwb', 'https://dandiarchive.s3.amazonaws.com/blobs/7cb/3ad/7cb3adf9-66fe-4320-8511-8faa45d391f4': 'sub-Jenkins/sub-Jenkins_ses-20090923_behavior+ecephys.nwb', 'https://dandiarchive.s3.amazonaws.com/blobs/265/394/26539417-2aaa-41eb-a146-d9a90b0b3d10': 'sub-Nitschke/sub-Nitschke_ses-20090819_behavior+ecephys.nwb', 'https://dandiarchive.s3.amazonaws.com/blobs/afd/f6a/afdf6aa3-6165-4915-9677-a503f70e557d': 'sub-Nitschke/sub-Nitschke_ses-20090812_behavior+ecephys.nwb', 'https://dandiarchive.s3.amazonaws.com/blobs/2dd/66a/2dd66ad9-e7d9-4b96-9de1-4a90ca416048': 'sub-Jenkins/sub-Jenkins_ses-20090916_behavior+ecephys.nwb', 'https://dandiarchive.s3.amazonaws.com/blobs/2f4/f82/2f4f829f-19e8-4455-87d5-3bbf42f0acd9': 'sub-Nitschke/sub-Nitschke_ses-20090910_behavior+ecephys.nwb', 'https://dandiarchive.s3.amazonaws.com/blobs/756/12c/75612cdf-8d70-4f8a-9334-c9ce683236c6': 'sub-Jenkins/sub-Jenkins_ses-20090918_behavior+ecephys.nwb', 'https://dandiarchive.s3.amazonaws.com/blobs/630/bf4/630bf46b-7256-4df0-baa6-3d7fad46ffe1': 'sub-Nitschke/sub-Nitschke_ses-20090922_behavior+ecephys.nwb', 'https://dandiarchive.s3.amazonaws.com/blobs/44e/2e4/44e2e45f-d190-4e17-a35b-8a40c621c14f': 'sub-Nitschke/sub-Nitschke_ses-20090920_behavior+ecephys.nwb', 'https://dandiarchive.s3.amazonaws.com/blobs/cbc/28a/cbc28afc-13af-416c-9054-03cd40390af7': 'sub-Nitschke/sub-Nitschke_ses-20100923_behavior+ecephys.nwb'}\n",
      "['sub-Jenkins/sub-Jenkins_ses-20090912_behavior+ecephys.nwb', 'sub-Jenkins/sub-Jenkins_ses-20090923_behavior+ecephys.nwb', 'sub-Nitschke/sub-Nitschke_ses-20090819_behavior+ecephys.nwb', 'sub-Nitschke/sub-Nitschke_ses-20090812_behavior+ecephys.nwb', 'sub-Jenkins/sub-Jenkins_ses-20090916_behavior+ecephys.nwb', 'sub-Nitschke/sub-Nitschke_ses-20090910_behavior+ecephys.nwb', 'sub-Jenkins/sub-Jenkins_ses-20090918_behavior+ecephys.nwb', 'sub-Nitschke/sub-Nitschke_ses-20090922_behavior+ecephys.nwb', 'sub-Nitschke/sub-Nitschke_ses-20090920_behavior+ecephys.nwb', 'sub-Nitschke/sub-Nitschke_ses-20100923_behavior+ecephys.nwb']\n"
     ]
    }
   ],
   "source": [
    "dandiset_id = brbe_nwb_dandisets[1].get_raw_metadata()['id'].split('/')[0].split(':')[-1]\n",
    "s3_urls = get_s3_urls_and_dandi_paths(dandiset_id=dandiset_id)\n",
    "print(s3_urls)\n",
    "print(list(s3_urls.values()))"
   ]
  },
  {
   "cell_type": "code",
   "execution_count": 83,
   "metadata": {},
   "outputs": [],
   "source": [
    "filepath = list(s3_urls.values())[0]\n",
    "\n",
    "with DandiAPIClient() as client:\n",
    "    asset = client.get_dandiset(dandiset_id).get_asset_by_path(filepath)\n",
    "    s3_url = asset.get_content_url(follow_redirects=1, strip_query=True)\n",
    "f = lindi.LindiH5pyFile.from_hdf5_file(asset.download_url)\n",
    "nwb = pynwb.NWBHDF5IO(file=f, mode='r').read()"
   ]
  },
  {
   "cell_type": "code",
   "execution_count": 84,
   "metadata": {},
   "outputs": [
    {
     "data": {
      "text/plain": [
       "{'3f1cf5e4-f297-46ef-b706-f533ecbcfd37': root pynwb.file.NWBFile at 0x4994178960\n",
       " Fields:\n",
       "   devices: {\n",
       "     Utah Array(M1) <class 'pynwb.device.Device'>,\n",
       "     Utah Array(PMd) <class 'pynwb.device.Device'>\n",
       "   }\n",
       "   electrode_groups: {\n",
       "     1 <class 'pynwb.ecephys.ElectrodeGroup'>,\n",
       "     2 <class 'pynwb.ecephys.ElectrodeGroup'>\n",
       "   }\n",
       "   electrodes: electrodes <class 'pynwb.ecephys.ElectrodesTable'>\n",
       "   experimenter: ['Matthew T. Kaufman' 'Mark M. Churchland']\n",
       "   file_create_date: [datetime.datetime(2021, 8, 11, 2, 59, 54, 8857, tzinfo=tzoffset(None, -14400))]\n",
       "   identifier: 94563eca-e111-4c9e-8cad-3f01345163f7\n",
       "   institution: Stanford University\n",
       "   intervals: {\n",
       "     trials <class 'pynwb.epoch.TimeIntervals'>\n",
       "   }\n",
       "   processing: {\n",
       "     behavior <class 'pynwb.base.ProcessingModule'>,\n",
       "     ecephys <class 'pynwb.base.ProcessingModule'>\n",
       "   }\n",
       "   related_publications: ['10.1038/nature11129 10.1152/jn.00892.2011 10.1038/nn.3643 10.1038/nn.4042 10.1146/annurev-neuro-062111-150509 10.7554/eLife.0467710.1523/ENEURO.0085-16.2016 10.1038/s41592-018-0109-9']\n",
       "   session_start_time: 2009-09-12 00:00:00-07:00\n",
       "   subject: subject pynwb.file.Subject at 0x4994176400\n",
       " Fields:\n",
       "   sex: M\n",
       "   species: Macaca mulatta\n",
       "   subject_id: Jenkins\n",
       " \n",
       "   timestamps_reference_time: 2009-09-12 00:00:00-07:00\n",
       "   trials: trials <class 'pynwb.epoch.TimeIntervals'>\n",
       "   units: units <class 'pynwb.misc.Units'>,\n",
       " 'f18ea511-7b99-4f77-87fe-6c7c1c3bb144': units pynwb.misc.Units at 0x4977605472\n",
       " Fields:\n",
       "   colnames: ['spike_times' 'obs_intervals' 'electrodes' 'electrode_group']\n",
       "   columns: (\n",
       "     spike_times_index <class 'hdmf.common.table.VectorIndex'>,\n",
       "     spike_times <class 'hdmf.common.table.VectorData'>,\n",
       "     obs_intervals_index <class 'hdmf.common.table.VectorIndex'>,\n",
       "     obs_intervals <class 'hdmf.common.table.VectorData'>,\n",
       "     electrodes_index <class 'hdmf.common.table.VectorIndex'>,\n",
       "     electrodes <class 'hdmf.common.table.DynamicTableRegion'>,\n",
       "     electrode_group <class 'hdmf.common.table.VectorData'>\n",
       "   )\n",
       "   description: Autogenerated by NWBFile\n",
       "   id: id <class 'hdmf.common.table.ElementIdentifiers'>\n",
       "   waveform_unit: volts,\n",
       " 'f0bd95e4-8d88-466e-8c4e-0d6ab19296eb': <hdmf.common.table.VectorData at 0x129d26fc0>,\n",
       " '19a45402-640d-425a-8e3c-19f75534e80a': electrodes hdmf.common.table.DynamicTableRegion at 0x4997054544\n",
       "     Target table: electrodes pynwb.ecephys.ElectrodesTable at 0x4977602112,\n",
       " 'e6e426a6-7f6a-4031-aae1-425b205f96ec': <hdmf.common.table.VectorIndex at 0x128ae7ce0>,\n",
       " '609998fa-def3-4648-9679-2bfc7fb2b542': <hdmf.common.table.VectorData at 0x129d26f10>,\n",
       " '5255cfa8-98b2-4df8-a482-a849870e5601': <hdmf.common.table.VectorIndex at 0x129ded6d0>,\n",
       " '9eca9425-536c-4de5-a482-68214acb5b0b': <hdmf.common.table.VectorData at 0x129d26e60>,\n",
       " '4533389d-40bf-4156-b9da-4490cc4fb671': <hdmf.common.table.VectorIndex at 0x128af7e10>,\n",
       " '20c8bcc2-cb4f-44e2-9be9-b11defc629cd': <hdmf.common.table.ElementIdentifiers at 0x129d902b0>,\n",
       " '02efa0c9-f59b-4102-b5c1-e35c362ba5d5': subject pynwb.file.Subject at 0x4994176400\n",
       " Fields:\n",
       "   sex: M\n",
       "   species: Macaca mulatta\n",
       "   subject_id: Jenkins,\n",
       " 'dffb0da7-071a-49ce-ac00-e4b3a9b9a4ec': trials pynwb.epoch.TimeIntervals at 0x4994178320\n",
       " Fields:\n",
       "   colnames: ['start_time' 'stop_time' 'target_presentation_time' 'go_cue_time'\n",
       "  'reaction_time' 'move_begins_time' 'move_ends_time' 'discard_trial'\n",
       "  'task_success' 'trial_type' 'trial_version' 'proto_trial'\n",
       "  'maze_condition' 'correct_reach' 'maze_num_targets' 'maze_num_barriers'\n",
       "  'novel_maze' 'target_positions' 'frame_details' 'hit_target_position'\n",
       "  'target_size' 'barrier_info' 'timeseries']\n",
       "   columns: (\n",
       "     start_time <class 'hdmf.common.table.VectorData'>,\n",
       "     stop_time <class 'hdmf.common.table.VectorData'>,\n",
       "     target_presentation_time <class 'hdmf.common.table.VectorData'>,\n",
       "     go_cue_time <class 'hdmf.common.table.VectorData'>,\n",
       "     reaction_time <class 'hdmf.common.table.VectorData'>,\n",
       "     move_begins_time <class 'hdmf.common.table.VectorData'>,\n",
       "     move_ends_time <class 'hdmf.common.table.VectorData'>,\n",
       "     discard_trial <class 'hdmf.common.table.VectorData'>,\n",
       "     task_success <class 'hdmf.common.table.VectorData'>,\n",
       "     trial_type <class 'hdmf.common.table.VectorData'>,\n",
       "     trial_version <class 'hdmf.common.table.VectorData'>,\n",
       "     proto_trial <class 'hdmf.common.table.VectorData'>,\n",
       "     maze_condition <class 'hdmf.common.table.VectorData'>,\n",
       "     correct_reach <class 'hdmf.common.table.VectorData'>,\n",
       "     maze_num_targets <class 'hdmf.common.table.VectorData'>,\n",
       "     maze_num_barriers <class 'hdmf.common.table.VectorData'>,\n",
       "     novel_maze <class 'hdmf.common.table.VectorData'>,\n",
       "     target_positions_index <class 'hdmf.common.table.VectorIndex'>,\n",
       "     target_positions <class 'hdmf.common.table.VectorData'>,\n",
       "     frame_details_index <class 'hdmf.common.table.VectorIndex'>,\n",
       "     frame_details <class 'hdmf.common.table.VectorData'>,\n",
       "     hit_target_position <class 'hdmf.common.table.VectorData'>,\n",
       "     target_size <class 'hdmf.common.table.VectorData'>,\n",
       "     barrier_info_index <class 'hdmf.common.table.VectorIndex'>,\n",
       "     barrier_info <class 'hdmf.common.table.VectorData'>,\n",
       "     timeseries_index <class 'hdmf.common.table.VectorIndex'>,\n",
       "     timeseries <class 'pynwb.base.TimeSeriesReferenceVectorData'>\n",
       "   )\n",
       "   description: experimental trials\n",
       "   id: id <class 'hdmf.common.table.ElementIdentifiers'>,\n",
       " '8d66f908-3c64-4352-a874-e77a994f62b4': <pynwb.base.TimeSeriesReferenceVectorData at 0x129d10650>,\n",
       " 'aa967124-1b47-4538-ac8c-fa873fb4a915': <hdmf.common.table.VectorIndex at 0x128b038c0>,\n",
       " '13c4fb6a-54dc-40ec-88fc-3a45f4afa999': <hdmf.common.table.VectorData at 0x129d25a70>,\n",
       " 'd29deea6-80ed-4d47-9479-7241fb0618b4': <hdmf.common.table.VectorIndex at 0x129ad1a90>,\n",
       " 'c473b57a-1a19-4f9d-9522-6f9b43a693ab': <hdmf.common.table.VectorData at 0x129d26ba0>,\n",
       " '16c6cba7-914b-43dd-b292-6e568343ea2d': <hdmf.common.table.VectorData at 0x129d25e90>,\n",
       " 'f26c3ef5-dcc5-45aa-83cb-5777b52397da': <hdmf.common.table.VectorData at 0x129d25c80>,\n",
       " 'abeefd91-7a28-47ad-a878-695306363a18': <hdmf.common.table.VectorIndex at 0x129ad1bd0>,\n",
       " '5f76d353-cb5d-4fb7-9b14-aa80004c606d': <hdmf.common.table.VectorData at 0x129d26a40>,\n",
       " '33715f7e-fa73-40c5-b062-798761a1d105': <hdmf.common.table.VectorIndex at 0x128af7ce0>,\n",
       " '8bc00f1c-e137-4907-843e-de81c522743a': <hdmf.common.table.VectorData at 0x129d26830>,\n",
       " '2e4f92ed-bf93-4ddc-846f-fbe1458f011a': <hdmf.common.table.VectorData at 0x129d260a0>,\n",
       " '8ba2bc38-83d2-4452-b817-01b60ae387cc': <hdmf.common.table.VectorData at 0x129d26150>,\n",
       " '9c68b9c6-e944-4180-a407-e49098019d08': <hdmf.common.table.VectorData at 0x129d24f70>,\n",
       " 'fde3eb36-32f1-46d3-aa1e-ae7dccae29a9': <hdmf.common.table.VectorData at 0x129d25ff0>,\n",
       " '04b6e9a7-e1c6-45da-8483-b0645a714001': <hdmf.common.table.VectorData at 0x129d268e0>,\n",
       " '9eb4887e-7941-4a63-849b-7ae7f77d4270': <hdmf.common.table.VectorData at 0x129d26db0>,\n",
       " 'ec460659-0225-4c05-b132-0dd12a1f9428': <hdmf.common.table.VectorData at 0x129d26d00>,\n",
       " 'a2487c99-4930-4a1f-b326-01c4f251b03c': <hdmf.common.table.VectorData at 0x129d26c50>,\n",
       " '4502fff4-0d7c-4b87-afff-12f4cc5aed4d': <hdmf.common.table.VectorData at 0x129d25b20>,\n",
       " 'ac2f0c3e-4f73-4bb6-afea-e82105414bde': <hdmf.common.table.VectorData at 0x129d264c0>,\n",
       " 'becc6a57-0a9a-40f0-96c9-49fe60517cc6': <hdmf.common.table.VectorData at 0x129d26410>,\n",
       " 'b0a0f7a8-c9cd-4f31-b20e-6ef13206a006': <hdmf.common.table.VectorData at 0x129d26990>,\n",
       " '04f1957f-439b-4c5c-baca-ff96889f9109': <hdmf.common.table.VectorData at 0x129d25d30>,\n",
       " 'caf70622-016a-4f10-ac8b-a1cfb0e99620': <hdmf.common.table.VectorData at 0x129d26af0>,\n",
       " '64eaf623-0f4e-49ac-97dc-fec1290568c2': <hdmf.common.table.VectorData at 0x129d104d0>,\n",
       " 'db64cb04-23fa-4fad-8c17-a6b9cbc17452': <hdmf.common.table.VectorData at 0x128ae3ba0>,\n",
       " 'de5607b2-4ca5-4d95-9377-cade14e9db98': <hdmf.common.table.ElementIdentifiers at 0x128af7a80>,\n",
       " '5ffb9bfe-d1a1-410e-be61-6951cfc57898': Utah Array(PMd) pynwb.device.Device at 0x4994175760\n",
       " Fields:\n",
       "   description: 96 channel utah array\n",
       "   manufacturer: BlackRock Microsystems,\n",
       " 'd6cac4cd-2899-4a82-866c-d3c0ff27c06b': Utah Array(M1) pynwb.device.Device at 0x4977603792\n",
       " Fields:\n",
       "   description: 96 channel utah array\n",
       "   manufacturer: BlackRock Microsystems,\n",
       " '06d8d1d4-6608-4cb0-8857-53ce412a6f75': 2 pynwb.ecephys.ElectrodeGroup at 0x4994176720\n",
       " Fields:\n",
       "   description: array corresponding to device implanted at M1\n",
       "   device: Utah Array(M1) pynwb.device.Device at 0x4977603792\n",
       " Fields:\n",
       "   description: 96 channel utah array\n",
       "   manufacturer: BlackRock Microsystems\n",
       " \n",
       "   location: M1 in Motor Cortex, left hemisphere,\n",
       " 'd4d27a1b-1be4-4a54-a7b8-f1011f9e677d': 1 pynwb.ecephys.ElectrodeGroup at 0x4977604128\n",
       " Fields:\n",
       "   description: array corresponding to device implanted at PMd\n",
       "   device: Utah Array(PMd) pynwb.device.Device at 0x4994175760\n",
       " Fields:\n",
       "   description: 96 channel utah array\n",
       "   manufacturer: BlackRock Microsystems\n",
       " \n",
       "   location: Caudal, dorsal Pre-motor cortex, Left hemisphere,\n",
       " '749d8df1-ccb4-4f88-9362-c3b5019c7ca6': electrodes pynwb.ecephys.ElectrodesTable at 0x4977602112\n",
       " Fields:\n",
       "   colnames: ['x' 'y' 'z' 'imp' 'location' 'filtering' 'group' 'group_name' 'gain'\n",
       "  'offset']\n",
       "   columns: (\n",
       "     x <class 'hdmf.common.table.VectorData'>,\n",
       "     y <class 'hdmf.common.table.VectorData'>,\n",
       "     z <class 'hdmf.common.table.VectorData'>,\n",
       "     imp <class 'hdmf.common.table.VectorData'>,\n",
       "     location <class 'hdmf.common.table.VectorData'>,\n",
       "     filtering <class 'hdmf.common.table.VectorData'>,\n",
       "     group <class 'hdmf.common.table.VectorData'>,\n",
       "     group_name <class 'hdmf.common.table.VectorData'>,\n",
       "     gain <class 'hdmf.common.table.VectorData'>,\n",
       "     offset <class 'hdmf.common.table.VectorData'>\n",
       "   )\n",
       "   description: metadata about extracellular electrodes\n",
       "   id: id <class 'hdmf.common.table.ElementIdentifiers'>,\n",
       " '02717fcd-f2d3-4efc-a038-0f2a89c2c252': <hdmf.common.table.VectorData at 0x129d39390>,\n",
       " '82842b47-0d36-4717-83ce-c56177d931f4': <hdmf.common.table.VectorData at 0x129d390f0>,\n",
       " '709eb3d6-03db-489a-ac01-79148bd25c22': <hdmf.common.table.VectorData at 0x128ae6360>,\n",
       " 'c8c19ff3-29a1-4609-9d51-241a50c15003': <hdmf.common.table.VectorData at 0x129ded010>,\n",
       " 'c66028e5-dc0c-4f08-9199-bd8c9461119d': <hdmf.common.table.VectorData at 0x129dfcaa0>,\n",
       " '15881bb6-224e-4d92-a2c6-ef1db7ef4470': <hdmf.common.table.VectorData at 0x128af6060>,\n",
       " '74ba5212-b0e5-4531-a985-f606041671f3': <hdmf.common.table.VectorData at 0x129dfcd70>,\n",
       " '443d247b-2e72-4c5d-9104-700659edf0f8': <hdmf.common.table.VectorData at 0x129615950>,\n",
       " 'ed20fb8b-9366-4bfa-8dd4-b932134dabad': <hdmf.common.table.VectorData at 0x129615350>,\n",
       " '223aa06c-eec5-497f-a584-83b3f8905df5': <hdmf.common.table.VectorData at 0x128ae7130>,\n",
       " '738fda6c-ed0b-4409-a676-056d44448658': <hdmf.common.table.ElementIdentifiers at 0x129ad0b90>,\n",
       " 'bd2df6b0-9edc-4301-9dcd-72543b5a955e': ecephys pynwb.base.ProcessingModule at 0x4977550624\n",
       " Fields:\n",
       "   data_interfaces: {\n",
       "     Processed <class 'pynwb.ecephys.FilteredEphys'>\n",
       "   }\n",
       "   description: Intermediate data from extracellular electrophysiology recordings, e.g., LFP.,\n",
       " '6cd95bb7-6170-4697-8ffb-f89ee018b945': Processed pynwb.ecephys.FilteredEphys at 0x4977599424\n",
       " Fields:\n",
       "   electrical_series: {\n",
       "     A001 <class 'pynwb.ecephys.ElectricalSeries'>,\n",
       "     A002 <class 'pynwb.ecephys.ElectricalSeries'>,\n",
       "     B001 <class 'pynwb.ecephys.ElectricalSeries'>,\n",
       "     B002 <class 'pynwb.ecephys.ElectricalSeries'>\n",
       "   },\n",
       " '23c75d09-cadf-43ba-a4da-4a7ca342338b': B002 pynwb.ecephys.ElectricalSeries at 0x4977551536\n",
       " Fields:\n",
       "   comments: Generated from SpikeInterface::NwbRecordingExtractor\n",
       "   conversion: 1e-06\n",
       "   data: <LindiH5pyDataset: /processing/ecephys/Processed/B002/data>\n",
       "   description: LFP signal for array B, segment 2data for both arrays A,B in the same segment should be, but is not of the same time lengthand cannot be synced due to lack of time stamps. Ignore the starting times.\n",
       "   electrodes: electrodes <class 'hdmf.common.table.DynamicTableRegion'>\n",
       "   offset: 0.0\n",
       "   rate: 1000.0\n",
       "   resolution: -1.0\n",
       "   starting_time: 0.0\n",
       "   starting_time_unit: seconds\n",
       "   unit: volts,\n",
       " 'ec6abc8c-93bb-4ca2-9dd0-d9f917c9a9f9': electrodes hdmf.common.table.DynamicTableRegion at 0x4977550320\n",
       "     Target table: electrodes pynwb.ecephys.ElectrodesTable at 0x4977602112,\n",
       " 'cbca6e29-0f66-4d9c-a43c-4e697deec8c8': B001 pynwb.ecephys.ElectricalSeries at 0x4994175120\n",
       " Fields:\n",
       "   comments: Generated from SpikeInterface::NwbRecordingExtractor\n",
       "   conversion: 1e-06\n",
       "   data: <LindiH5pyDataset: /processing/ecephys/Processed/B001/data>\n",
       "   description: LFP signal for array B, segment 1data for both arrays A,B in the same segment should be, but is not of the same time lengthand cannot be synced due to lack of time stamps. Ignore the starting times.\n",
       "   electrodes: electrodes <class 'hdmf.common.table.DynamicTableRegion'>\n",
       "   offset: 0.0\n",
       "   rate: 1000.0\n",
       "   resolution: -1.0\n",
       "   starting_time: 0.0\n",
       "   starting_time_unit: seconds\n",
       "   unit: volts,\n",
       " '40e92f75-27ea-44a6-8f0f-92d77a148b8e': electrodes hdmf.common.table.DynamicTableRegion at 0x4994174800\n",
       "     Target table: electrodes pynwb.ecephys.ElectrodesTable at 0x4977602112,\n",
       " 'e737cd78-beb3-45ae-9764-5761bb8440b7': A002 pynwb.ecephys.ElectricalSeries at 0x4994174480\n",
       " Fields:\n",
       "   comments: Generated from SpikeInterface::NwbRecordingExtractor\n",
       "   conversion: 1e-06\n",
       "   data: <LindiH5pyDataset: /processing/ecephys/Processed/A002/data>\n",
       "   description: LFP signal for array A, segment 2data for both arrays A,B in the same segment should be, but is not of the same time lengthand cannot be synced due to lack of time stamps. Ignore the starting times.\n",
       "   electrodes: electrodes <class 'hdmf.common.table.DynamicTableRegion'>\n",
       "   offset: 0.0\n",
       "   rate: 1000.0\n",
       "   resolution: -1.0\n",
       "   starting_time: 0.0\n",
       "   starting_time_unit: seconds\n",
       "   unit: volts,\n",
       " '39f384e8-b317-4775-bf53-10ea7636a790': electrodes hdmf.common.table.DynamicTableRegion at 0x4994174160\n",
       "     Target table: electrodes pynwb.ecephys.ElectrodesTable at 0x4977602112,\n",
       " '59818df9-5926-41f8-908e-11c552f95e81': A001 pynwb.ecephys.ElectricalSeries at 0x4977599760\n",
       " Fields:\n",
       "   comments: Generated from SpikeInterface::NwbRecordingExtractor\n",
       "   conversion: 1e-06\n",
       "   data: <LindiH5pyDataset: /processing/ecephys/Processed/A001/data>\n",
       "   description: LFP signal for array A, segment 1data for both arrays A,B in the same segment should be, but is not of the same time lengthand cannot be synced due to lack of time stamps. Ignore the starting times.\n",
       "   electrodes: electrodes <class 'hdmf.common.table.DynamicTableRegion'>\n",
       "   offset: 0.0\n",
       "   rate: 1000.0\n",
       "   resolution: -1.0\n",
       "   starting_time: 0.0\n",
       "   starting_time_unit: seconds\n",
       "   unit: volts,\n",
       " 'b2721633-a9a2-4c9f-ad42-01aa0567965f': electrodes hdmf.common.table.DynamicTableRegion at 0x4977598080\n",
       "     Target table: electrodes pynwb.ecephys.ElectrodesTable at 0x4977602112,\n",
       " '172858fa-9d35-4ae1-b7fc-ef87aa0e2919': behavior pynwb.base.ProcessingModule at 0x4994173200\n",
       " Fields:\n",
       "   data_interfaces: {\n",
       "     Position <class 'pynwb.behavior.Position'>\n",
       "   }\n",
       "   description: contains monkey movement data,\n",
       " '149ff2b0-9833-4707-844b-3d16988ad923': Position pynwb.behavior.Position at 0x4977602784\n",
       " Fields:\n",
       "   spatial_series: {\n",
       "     Cursor <class 'pynwb.behavior.SpatialSeries'>,\n",
       "     Eye <class 'pynwb.behavior.SpatialSeries'>,\n",
       "     Hand <class 'pynwb.behavior.SpatialSeries'>\n",
       "   },\n",
       " 'f7d64eb5-21b9-499a-8ec4-def67e58c533': Hand pynwb.behavior.SpatialSeries at 0x4994172560\n",
       " Fields:\n",
       "   comments: no comments\n",
       "   conversion: nan\n",
       "   data: <LindiH5pyDataset: /processing/behavior/Position/Hand/data>\n",
       "   description: no description\n",
       "   interval: 1\n",
       "   offset: 0.0\n",
       "   reference_frame: screen center\n",
       "   resolution: -1.0\n",
       "   timestamps: <LindiH5pyDataset: /processing/behavior/Position/Hand/timestamps>\n",
       "   timestamps_unit: seconds\n",
       "   unit: meters,\n",
       " '95657f5b-5cd6-4f4c-8c8e-bf9d6b3e7737': Eye pynwb.behavior.SpatialSeries at 0x4994172240\n",
       " Fields:\n",
       "   comments: no comments\n",
       "   conversion: nan\n",
       "   data: <LindiH5pyDataset: /processing/behavior/Position/Eye/data>\n",
       "   description: no description\n",
       "   interval: 1\n",
       "   offset: 0.0\n",
       "   reference_frame: screen center\n",
       "   resolution: -1.0\n",
       "   timestamps: <LindiH5pyDataset: /processing/behavior/Position/Eye/timestamps>\n",
       "   timestamps_unit: seconds\n",
       "   unit: meters,\n",
       " 'd517f1f5-935e-43bf-bb14-3f2b03036d4b': Cursor pynwb.behavior.SpatialSeries at 0x4977603120\n",
       " Fields:\n",
       "   comments: no comments\n",
       "   conversion: nan\n",
       "   data: <LindiH5pyDataset: /processing/behavior/Position/Cursor/data>\n",
       "   description: no description\n",
       "   interval: 1\n",
       "   offset: 0.0\n",
       "   reference_frame: screen center\n",
       "   resolution: -1.0\n",
       "   timestamps: <LindiH5pyDataset: /processing/behavior/Position/Cursor/timestamps>\n",
       "   timestamps_unit: seconds\n",
       "   unit: meters}"
      ]
     },
     "execution_count": 84,
     "metadata": {},
     "output_type": "execute_result"
    }
   ],
   "source": [
    "nwb.objects"
   ]
  },
  {
   "cell_type": "code",
   "execution_count": 86,
   "metadata": {},
   "outputs": [
    {
     "data": {
      "text/plain": [
       "('start_time',\n",
       " 'stop_time',\n",
       " 'target_presentation_time',\n",
       " 'go_cue_time',\n",
       " 'reaction_time',\n",
       " 'move_begins_time',\n",
       " 'move_ends_time',\n",
       " 'discard_trial',\n",
       " 'task_success',\n",
       " 'trial_type',\n",
       " 'trial_version',\n",
       " 'proto_trial',\n",
       " 'maze_condition',\n",
       " 'correct_reach',\n",
       " 'maze_num_targets',\n",
       " 'maze_num_barriers',\n",
       " 'novel_maze',\n",
       " 'target_positions',\n",
       " 'frame_details',\n",
       " 'hit_target_position',\n",
       " 'target_size',\n",
       " 'barrier_info',\n",
       " 'timeseries')"
      ]
     },
     "execution_count": 86,
     "metadata": {},
     "output_type": "execute_result"
    }
   ],
   "source": [
    "trials = nwb.intervals[\"trials\"]\n",
    "trials.colnames"
   ]
  },
  {
   "cell_type": "code",
   "execution_count": 87,
   "metadata": {},
   "outputs": [
    {
     "data": {
      "text/plain": [
       "('x',\n",
       " 'y',\n",
       " 'z',\n",
       " 'imp',\n",
       " 'location',\n",
       " 'filtering',\n",
       " 'group',\n",
       " 'group_name',\n",
       " 'gain',\n",
       " 'offset')"
      ]
     },
     "execution_count": 87,
     "metadata": {},
     "output_type": "execute_result"
    }
   ],
   "source": [
    "electrodes = nwb.electrodes\n",
    "electrodes.colnames"
   ]
  },
  {
   "cell_type": "code",
   "execution_count": 88,
   "metadata": {},
   "outputs": [
    {
     "data": {
      "text/plain": [
       "<bound method HERDManager.get_linked_resources of root pynwb.file.NWBFile at 0x4994178960\n",
       "Fields:\n",
       "  devices: {\n",
       "    Utah Array(M1) <class 'pynwb.device.Device'>,\n",
       "    Utah Array(PMd) <class 'pynwb.device.Device'>\n",
       "  }\n",
       "  electrode_groups: {\n",
       "    1 <class 'pynwb.ecephys.ElectrodeGroup'>,\n",
       "    2 <class 'pynwb.ecephys.ElectrodeGroup'>\n",
       "  }\n",
       "  electrodes: electrodes <class 'pynwb.ecephys.ElectrodesTable'>\n",
       "  experimenter: ['Matthew T. Kaufman' 'Mark M. Churchland']\n",
       "  file_create_date: [datetime.datetime(2021, 8, 11, 2, 59, 54, 8857, tzinfo=tzoffset(None, -14400))]\n",
       "  identifier: 94563eca-e111-4c9e-8cad-3f01345163f7\n",
       "  institution: Stanford University\n",
       "  intervals: {\n",
       "    trials <class 'pynwb.epoch.TimeIntervals'>\n",
       "  }\n",
       "  processing: {\n",
       "    behavior <class 'pynwb.base.ProcessingModule'>,\n",
       "    ecephys <class 'pynwb.base.ProcessingModule'>\n",
       "  }\n",
       "  related_publications: ['10.1038/nature11129 10.1152/jn.00892.2011 10.1038/nn.3643 10.1038/nn.4042 10.1146/annurev-neuro-062111-150509 10.7554/eLife.0467710.1523/ENEURO.0085-16.2016 10.1038/s41592-018-0109-9']\n",
       "  session_start_time: 2009-09-12 00:00:00-07:00\n",
       "  subject: subject pynwb.file.Subject at 0x4994176400\n",
       "Fields:\n",
       "  sex: M\n",
       "  species: Macaca mulatta\n",
       "  subject_id: Jenkins\n",
       "\n",
       "  timestamps_reference_time: 2009-09-12 00:00:00-07:00\n",
       "  trials: trials <class 'pynwb.epoch.TimeIntervals'>\n",
       "  units: units <class 'pynwb.misc.Units'>\n",
       ">"
      ]
     },
     "execution_count": 88,
     "metadata": {},
     "output_type": "execute_result"
    }
   ],
   "source": [
    "nwb.get_linked_resources"
   ]
  },
  {
   "cell_type": "code",
   "execution_count": 91,
   "metadata": {},
   "outputs": [
    {
     "data": {
      "text/plain": [
       "{'behavior': behavior pynwb.base.ProcessingModule at 0x4994173200\n",
       " Fields:\n",
       "   data_interfaces: {\n",
       "     Position <class 'pynwb.behavior.Position'>\n",
       "   }\n",
       "   description: contains monkey movement data,\n",
       " 'ecephys': ecephys pynwb.base.ProcessingModule at 0x4977550624\n",
       " Fields:\n",
       "   data_interfaces: {\n",
       "     Processed <class 'pynwb.ecephys.FilteredEphys'>\n",
       "   }\n",
       "   description: Intermediate data from extracellular electrophysiology recordings, e.g., LFP.}"
      ]
     },
     "execution_count": 91,
     "metadata": {},
     "output_type": "execute_result"
    }
   ],
   "source": [
    "nwb.processing"
   ]
  },
  {
   "cell_type": "code",
   "execution_count": null,
   "metadata": {},
   "outputs": [],
   "source": []
  }
 ],
 "metadata": {
  "kernelspec": {
   "display_name": "bootcamp",
   "language": "python",
   "name": "python3"
  },
  "language_info": {
   "codemirror_mode": {
    "name": "ipython",
    "version": 3
   },
   "file_extension": ".py",
   "mimetype": "text/x-python",
   "name": "python",
   "nbconvert_exporter": "python",
   "pygments_lexer": "ipython3",
   "version": "3.13.2"
  }
 },
 "nbformat": 4,
 "nbformat_minor": 2
}
