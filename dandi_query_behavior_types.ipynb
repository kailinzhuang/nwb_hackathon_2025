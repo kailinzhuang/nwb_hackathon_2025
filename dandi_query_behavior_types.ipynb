{
 "cells": [
  {
   "cell_type": "markdown",
   "metadata": {},
   "source": [
    "based on notebooks in  \n",
    "https://github.com/dandi/example-notebooks/tree/master/tutorials/neurodatarehack_2024 "
   ]
  },
  {
   "cell_type": "code",
   "execution_count": 185,
   "metadata": {},
   "outputs": [],
   "source": [
    "import json\n",
    "import numpy as np\n",
    "from dandi.dandiapi import DandiAPIClient\n",
    "from tqdm.notebook import tqdm\n",
    "from isodate import parse_duration, Duration\n",
    "from datetime import datetime\n",
    "from warnings import simplefilter\n",
    "simplefilter(\"ignore\")  # Suppress namespace warnings from reading older NWB files\n",
    "\n",
    "from nwbinspector.tools import get_s3_urls_and_dandi_paths\n",
    "from pynwb import NWBHDF5IO\n",
    "import remfile\n",
    "import h5py\n",
    "\n",
    "from collections import Counter\n",
    "\n",
    "import lindi, pynwb\n",
    "\n",
    "from dandi.dandiapi import DandiAPIClient\n",
    "import pandas as pd\n",
    "import pickle"
   ]
  },
  {
   "cell_type": "code",
   "execution_count": 198,
   "metadata": {},
   "outputs": [],
   "source": [
    "client = DandiAPIClient()\n",
    "dandisets = list(client.get_dandisets())"
   ]
  },
  {
   "cell_type": "markdown",
   "metadata": {},
   "source": [
    "# nwb dandisets"
   ]
  },
  {
   "cell_type": "code",
   "execution_count": 3,
   "metadata": {},
   "outputs": [
    {
     "data": {
      "application/vnd.jupyter.widget-view+json": {
       "model_id": "802fe3d2507f41248c17b3d1240d6d66",
       "version_major": 2,
       "version_minor": 0
      },
      "text/plain": [
       "  0%|          | 0/697 [00:00<?, ?it/s]"
      ]
     },
     "metadata": {},
     "output_type": "display_data"
    },
    {
     "name": "stdout",
     "output_type": "stream",
     "text": [
      "There are currently 420 NWB datasets on DANDI!\n"
     ]
    }
   ],
   "source": [
    "nwb_dandisets = []\n",
    "\n",
    "for dandiset in tqdm(dandisets):\n",
    "    raw_metadata = dandiset.get_raw_metadata()\n",
    "\n",
    "    if any(\n",
    "        data_standard['identifier'] == \"RRID:SCR_015242\"  # this is the RRID for NWB\n",
    "        for data_standard in raw_metadata['assetsSummary'].get('dataStandard', [])\n",
    "    ):\n",
    "        nwb_dandisets.append(dandiset)\n",
    "print(f\"There are currently {len(nwb_dandisets)} NWB datasets on DANDI!\")"
   ]
  },
  {
   "cell_type": "markdown",
   "metadata": {},
   "source": [
    "# dandiset behavior types \n"
   ]
  },
  {
   "cell_type": "code",
   "execution_count": 4,
   "metadata": {},
   "outputs": [],
   "source": [
    "raw_metadata = dandisets[2].get_raw_metadata()"
   ]
  },
  {
   "cell_type": "code",
   "execution_count": 5,
   "metadata": {},
   "outputs": [
    {
     "data": {
      "text/plain": [
       "{'id': 'DANDI:000005/0.220126.1853',\n",
       " 'doi': '10.48324/dandi.000005/0.220126.1853',\n",
       " 'url': 'https://dandiarchive.org/dandiset/000005/0.220126.1853',\n",
       " 'name': 'Electrophysiology data from thalamic and cortical neurons during somatosensation',\n",
       " 'about': [{'name': 'dorsal plus ventral thalamus',\n",
       "   'schemaKey': 'Anatomy',\n",
       "   'identifier': 'UBERON:0001897'}],\n",
       " 'access': [{'status': 'dandi:OpenAccess',\n",
       "   'schemaKey': 'AccessRequirements',\n",
       "   'contactPoint': {'schemaKey': 'ContactPoint'}}],\n",
       " 'license': ['spdx:CC-BY-4.0'],\n",
       " 'version': '0.220126.1853',\n",
       " '@context': 'https://raw.githubusercontent.com/dandi/schema/master/releases/0.6.0/context.json',\n",
       " 'citation': 'Yu, Jianing; Gutnisky, Diego A; Hires, S Andrew; Svoboda, Karel (2022) Electrophysiology data from thalamic and cortical neurons during somatosensation (Version 0.220126.1853) [Data set]. DANDI archive. https://doi.org/10.48324/dandi.000005/0.220126.1853',\n",
       " 'keywords': [],\n",
       " 'protocol': [],\n",
       " 'schemaKey': 'Dandiset',\n",
       " 'identifier': 'DANDI:000005',\n",
       " 'repository': 'https://dandiarchive.org/',\n",
       " 'contributor': [{'name': 'Yu, Jianing',\n",
       "   'roleName': ['dcite:Author'],\n",
       "   'schemaKey': 'Person',\n",
       "   'affiliation': [{'name': 'Janelia Research Campus, Howard Hughes Medical Institute',\n",
       "     'schemaKey': 'Affiliation',\n",
       "     'includeInCitation': False}],\n",
       "   'includeInCitation': True},\n",
       "  {'name': 'Gutnisky, Diego A',\n",
       "   'roleName': ['dcite:Author'],\n",
       "   'schemaKey': 'Person',\n",
       "   'affiliation': [{'name': 'Janelia Research Campus, Howard Hughes Medical Institute',\n",
       "     'schemaKey': 'Affiliation',\n",
       "     'includeInCitation': False}],\n",
       "   'includeInCitation': True},\n",
       "  {'name': 'Hires, S Andrew',\n",
       "   'roleName': ['dcite:Author'],\n",
       "   'schemaKey': 'Person',\n",
       "   'affiliation': [{'name': 'Janelia Research Campus, Howard Hughes Medical Institute',\n",
       "     'schemaKey': 'Affiliation',\n",
       "     'includeInCitation': False}],\n",
       "   'includeInCitation': True},\n",
       "  {'name': 'Svoboda, Karel',\n",
       "   'roleName': ['dcite:Author', 'dcite:ContactPerson'],\n",
       "   'schemaKey': 'Person',\n",
       "   'identifier': '0000-0002-6670-7362',\n",
       "   'affiliation': [{'name': 'Janelia Research Campus, Howard Hughes Medical Institute',\n",
       "     'roleName': [],\n",
       "     'schemaKey': 'Affiliation',\n",
       "     'identifier': 'https://ror.org/013sk6x84',\n",
       "     'contactPoint': [],\n",
       "     'includeInCitation': False}],\n",
       "   'includeInCitation': True}],\n",
       " 'dateCreated': '2020-03-16T22:52:44.757000+00:00',\n",
       " 'description': 'intracellular and extracellular electrophysiology recordings performed on mouse barrel cortex and ventral posterolateral nucleus (vpm) in whisker-based object locating task.',\n",
       " 'publishedBy': {'id': 'urn:uuid:2d3f280e-e2ec-412d-a645-a6068b39edc6',\n",
       "  'name': 'DANDI publish',\n",
       "  'endDate': '2022-01-26T18:53:25.564691+00:00',\n",
       "  'schemaKey': 'PublishActivity',\n",
       "  'startDate': '2022-01-26T18:53:25.564691+00:00',\n",
       "  'wasAssociatedWith': [{'id': 'urn:uuid:d97e4246-aa84-4b17-a7ed-15ae6c6ec912',\n",
       "    'name': 'DANDI API',\n",
       "    'version': '0.1.0',\n",
       "    'schemaKey': 'Software',\n",
       "    'identifier': 'RRID:SCR_017571'}]},\n",
       " 'studyTarget': [],\n",
       " 'assetsSummary': {'species': [{'name': 'House mouse',\n",
       "    'schemaKey': 'SpeciesType',\n",
       "    'identifier': 'http://purl.obolibrary.org/obo/NCBITaxon_10090'}],\n",
       "  'approach': [{'name': 'electrophysiological approach',\n",
       "    'schemaKey': 'ApproachType'},\n",
       "   {'name': 'optogenetic approach', 'schemaKey': 'ApproachType'}],\n",
       "  'schemaKey': 'AssetsSummary',\n",
       "  'dataStandard': [{'name': 'Neurodata Without Borders (NWB)',\n",
       "    'schemaKey': 'StandardsType',\n",
       "    'identifier': 'RRID:SCR_015242'}],\n",
       "  'numberOfBytes': 46436686324,\n",
       "  'numberOfFiles': 148,\n",
       "  'numberOfSubjects': 55,\n",
       "  'variableMeasured': ['CurrentClampStimulusSeries',\n",
       "   'CurrentClampSeries',\n",
       "   'OptogeneticSeries',\n",
       "   'ElectrodeGroup',\n",
       "   'Units'],\n",
       "  'measurementTechnique': [{'name': 'current clamp technique',\n",
       "    'schemaKey': 'MeasurementTechniqueType'},\n",
       "   {'name': 'surgical technique', 'schemaKey': 'MeasurementTechniqueType'},\n",
       "   {'name': 'spike sorting technique',\n",
       "    'schemaKey': 'MeasurementTechniqueType'}]},\n",
       " 'datePublished': '2022-01-26T18:53:25.564691+00:00',\n",
       " 'schemaVersion': '0.6.0',\n",
       " 'ethicsApproval': [],\n",
       " 'wasGeneratedBy': [],\n",
       " 'relatedResource': [{'url': 'https://doi.org/10.1038/nn.4412',\n",
       "   'name': 'Layer 4 fast-spiking interneurons filter thalamocortical signals during active somatosensation',\n",
       "   'relation': 'dcite:IsDescribedBy',\n",
       "   'schemaKey': 'Resource',\n",
       "   'identifier': 'doi:10.1038/nn.4412'}],\n",
       " 'manifestLocation': ['https://dandiarchive.s3.amazonaws.com/dandisets/000005/0.220126.1853/assets.yaml']}"
      ]
     },
     "execution_count": 5,
     "metadata": {},
     "output_type": "execute_result"
    }
   ],
   "source": [
    "raw_metadata"
   ]
  },
  {
   "cell_type": "code",
   "execution_count": 56,
   "metadata": {},
   "outputs": [],
   "source": [
    "\n",
    "def contains_behavior(data):\n",
    "    if isinstance(data, dict):\n",
    "        return any(contains_behavior(v) for v in data.values())\n",
    "    elif isinstance(data, list):\n",
    "        return any(contains_behavior(v) for v in data)\n",
    "    elif isinstance(data, str):\n",
    "        return 'behavior' in data.lower()\n",
    "    return False\n",
    "\n",
    "def find_behavior_keys(data, parent_key=\"\"):\n",
    "    keys_with_behavior = []\n",
    "\n",
    "    if isinstance(data, dict):\n",
    "        for key, value in data.items():\n",
    "            full_key = f\"{parent_key}.{key}\" if parent_key else key\n",
    "            keys_with_behavior.extend(find_behavior_keys(value, full_key))\n",
    "    elif isinstance(data, list):\n",
    "        for index, item in enumerate(data):\n",
    "            full_key = f\"{parent_key}[{index}]\"\n",
    "            # keys_with_behavior.extend(find_behavior_keys(item, full_key))\n",
    "            keys_with_behavior.extend(find_behavior_keys(item, parent_key))\n",
    "    elif isinstance(data, str):\n",
    "        if 'behavior' in data.lower():\n",
    "            keys_with_behavior.append(parent_key)\n",
    "\n",
    "    return keys_with_behavior\n"
   ]
  },
  {
   "cell_type": "code",
   "execution_count": 104,
   "metadata": {},
   "outputs": [
    {
     "name": "stdout",
     "output_type": "stream",
     "text": [
      "['name', 'citation', 'description', 'assetsSummary.approach.name', 'assetsSummary.measurementTechnique.name', 'relatedResource.name']\n"
     ]
    },
    {
     "name": "stderr",
     "output_type": "stream",
     "text": [
      "100%|██████████| 420/420 [00:15<00:00, 26.90it/s]"
     ]
    },
    {
     "name": "stdout",
     "output_type": "stream",
     "text": [
      "178\n"
     ]
    },
    {
     "name": "stderr",
     "output_type": "stream",
     "text": [
      "\n"
     ]
    }
   ],
   "source": [
    "# example\n",
    "print(find_behavior_keys(raw_metadata))\n",
    "\n",
    "# query\n",
    "brbe_nwb_dandisets = []\n",
    "\n",
    "# contains 'behavior'\n",
    "for dset in tqdm(nwb_dandisets):\n",
    "    raw_metadata = dset.get_raw_metadata()\n",
    "\n",
    "    if contains_behavior(raw_metadata):\n",
    "        behavior_keys = find_behavior_keys(raw_metadata)\n",
    "        brbe_nwb_dandisets.append(dset)\n",
    "\n",
    "print(len(brbe_nwb_dandisets))"
   ]
  },
  {
   "cell_type": "code",
   "execution_count": 459,
   "metadata": {},
   "outputs": [
    {
     "data": {
      "application/vnd.jupyter.widget-view+json": {
       "model_id": "c04070c804c44eb5821bca85117e05fb",
       "version_major": 2,
       "version_minor": 0
      },
      "text/plain": [
       "  0%|          | 0/420 [00:00<?, ?it/s]"
      ]
     },
     "metadata": {},
     "output_type": "display_data"
    },
    {
     "data": {
      "text/plain": [
       "Counter({'assetsSummary.approach.name': 122,\n",
       "         'assetsSummary.measurementTechnique.name': 122,\n",
       "         'description': 96,\n",
       "         'assetsSummary.variableMeasured': 91,\n",
       "         'name': 29,\n",
       "         'citation': 29,\n",
       "         'relatedResource.name': 19,\n",
       "         'keywords': 15,\n",
       "         'relatedResource.url': 11,\n",
       "         'studyTarget': 8,\n",
       "         'contributor.name': 4,\n",
       "         'about.name': 4,\n",
       "         'relatedResource.repository': 3,\n",
       "         'contributor.affiliation.name': 2,\n",
       "         'acknowledgement': 2,\n",
       "         'relatedResource.identifier': 1,\n",
       "         'wasGeneratedBy.description': 1})"
      ]
     },
     "execution_count": 459,
     "metadata": {},
     "output_type": "execute_result"
    }
   ],
   "source": [
    "# contains a behavior key\n",
    "\n",
    "behavior_keys_list = []\n",
    "behavior_keys_dandisets = []\n",
    "for dset in tqdm(nwb_dandisets):\n",
    "    raw_metadata = dset.get_raw_metadata()\n",
    "\n",
    "    behavior_keys = find_behavior_keys(raw_metadata)\n",
    "    behavior_keys_list.extend(behavior_keys)\n",
    "    \n",
    "    if behavior_keys: \n",
    "        approaches = raw_metadata['assetsSummary'].get('approach', [])\n",
    "        if (\n",
    "            any('electrophysiological' in a.get('name', '') for a in approaches)\n",
    "        ):\n",
    "            exist_ephys = True\n",
    "        else: \n",
    "            exist_ephys = False\n",
    "        if any('assetssummary' in x.lower() for x in behavior_keys):\n",
    "            exist_asset = True \n",
    "        else:\n",
    "            exist_asset = False  \n",
    "        behavior_keys_dandisets.append({\n",
    "            \"dandiset_id\": dset.identifier,\n",
    "            \"dandiset\": dset,\n",
    "            \"behavior_keys\": behavior_keys,\n",
    "            \"asset\": exist_asset,\n",
    "            \"ephys\": exist_ephys\n",
    "        })\n",
    "\n",
    "behavior_keys_dandisets = pd.DataFrame(behavior_keys_dandisets)\n",
    "# count occurrences of each key\n",
    "behavior_keys_counter = Counter(behavior_keys_list)\n",
    "behavior_keys_counter\n"
   ]
  },
  {
   "cell_type": "code",
   "execution_count": 458,
   "metadata": {},
   "outputs": [
    {
     "data": {
      "text/html": [
       "<div>\n",
       "<style scoped>\n",
       "    .dataframe tbody tr th:only-of-type {\n",
       "        vertical-align: middle;\n",
       "    }\n",
       "\n",
       "    .dataframe tbody tr th {\n",
       "        vertical-align: top;\n",
       "    }\n",
       "\n",
       "    .dataframe thead th {\n",
       "        text-align: right;\n",
       "    }\n",
       "</style>\n",
       "<table border=\"1\" class=\"dataframe\">\n",
       "  <thead>\n",
       "    <tr style=\"text-align: right;\">\n",
       "      <th></th>\n",
       "      <th>dandiset_id</th>\n",
       "      <th>dandiset</th>\n",
       "      <th>behavior_keys</th>\n",
       "      <th>asset</th>\n",
       "    </tr>\n",
       "  </thead>\n",
       "  <tbody>\n",
       "    <tr>\n",
       "      <th>0</th>\n",
       "      <td>000003</td>\n",
       "      <td>DANDI:000003/0.250624.0409</td>\n",
       "      <td>[name, citation, description, assetsSummary.ap...</td>\n",
       "      <td>True</td>\n",
       "    </tr>\n",
       "    <tr>\n",
       "      <th>1</th>\n",
       "      <td>000004</td>\n",
       "      <td>DANDI:000004/0.220126.1852</td>\n",
       "      <td>[contributor.affiliation.name, contributor.aff...</td>\n",
       "      <td>False</td>\n",
       "    </tr>\n",
       "    <tr>\n",
       "      <th>2</th>\n",
       "      <td>000006</td>\n",
       "      <td>DANDI:000006/0.220126.1855</td>\n",
       "      <td>[assetsSummary.approach.name, assetsSummary.va...</td>\n",
       "      <td>True</td>\n",
       "    </tr>\n",
       "    <tr>\n",
       "      <th>3</th>\n",
       "      <td>000009</td>\n",
       "      <td>DANDI:000009/0.220126.1903</td>\n",
       "      <td>[assetsSummary.approach.name, assetsSummary.va...</td>\n",
       "      <td>True</td>\n",
       "    </tr>\n",
       "    <tr>\n",
       "      <th>4</th>\n",
       "      <td>000010</td>\n",
       "      <td>DANDI:000010/0.220126.1905</td>\n",
       "      <td>[assetsSummary.approach.name, assetsSummary.va...</td>\n",
       "      <td>True</td>\n",
       "    </tr>\n",
       "    <tr>\n",
       "      <th>...</th>\n",
       "      <td>...</td>\n",
       "      <td>...</td>\n",
       "      <td>...</td>\n",
       "      <td>...</td>\n",
       "    </tr>\n",
       "    <tr>\n",
       "      <th>173</th>\n",
       "      <td>001515</td>\n",
       "      <td>DANDI:001515/draft</td>\n",
       "      <td>[description]</td>\n",
       "      <td>False</td>\n",
       "    </tr>\n",
       "    <tr>\n",
       "      <th>174</th>\n",
       "      <td>001530</td>\n",
       "      <td>DANDI:001530/draft</td>\n",
       "      <td>[assetsSummary.approach.name, assetsSummary.va...</td>\n",
       "      <td>True</td>\n",
       "    </tr>\n",
       "    <tr>\n",
       "      <th>175</th>\n",
       "      <td>001533</td>\n",
       "      <td>DANDI:001533/draft</td>\n",
       "      <td>[assetsSummary.approach.name, assetsSummary.me...</td>\n",
       "      <td>True</td>\n",
       "    </tr>\n",
       "    <tr>\n",
       "      <th>176</th>\n",
       "      <td>001539</td>\n",
       "      <td>DANDI:001539/0.250804.1538</td>\n",
       "      <td>[description, assetsSummary.approach.name, ass...</td>\n",
       "      <td>True</td>\n",
       "    </tr>\n",
       "    <tr>\n",
       "      <th>177</th>\n",
       "      <td>001543</td>\n",
       "      <td>DANDI:001543/draft</td>\n",
       "      <td>[assetsSummary.approach.name, assetsSummary.va...</td>\n",
       "      <td>True</td>\n",
       "    </tr>\n",
       "  </tbody>\n",
       "</table>\n",
       "<p>178 rows × 4 columns</p>\n",
       "</div>"
      ],
      "text/plain": [
       "    dandiset_id                    dandiset  \\\n",
       "0        000003  DANDI:000003/0.250624.0409   \n",
       "1        000004  DANDI:000004/0.220126.1852   \n",
       "2        000006  DANDI:000006/0.220126.1855   \n",
       "3        000009  DANDI:000009/0.220126.1903   \n",
       "4        000010  DANDI:000010/0.220126.1905   \n",
       "..          ...                         ...   \n",
       "173      001515          DANDI:001515/draft   \n",
       "174      001530          DANDI:001530/draft   \n",
       "175      001533          DANDI:001533/draft   \n",
       "176      001539  DANDI:001539/0.250804.1538   \n",
       "177      001543          DANDI:001543/draft   \n",
       "\n",
       "                                         behavior_keys  asset  \n",
       "0    [name, citation, description, assetsSummary.ap...   True  \n",
       "1    [contributor.affiliation.name, contributor.aff...  False  \n",
       "2    [assetsSummary.approach.name, assetsSummary.va...   True  \n",
       "3    [assetsSummary.approach.name, assetsSummary.va...   True  \n",
       "4    [assetsSummary.approach.name, assetsSummary.va...   True  \n",
       "..                                                 ...    ...  \n",
       "173                                      [description]  False  \n",
       "174  [assetsSummary.approach.name, assetsSummary.va...   True  \n",
       "175  [assetsSummary.approach.name, assetsSummary.me...   True  \n",
       "176  [description, assetsSummary.approach.name, ass...   True  \n",
       "177  [assetsSummary.approach.name, assetsSummary.va...   True  \n",
       "\n",
       "[178 rows x 4 columns]"
      ]
     },
     "execution_count": 458,
     "metadata": {},
     "output_type": "execute_result"
    }
   ],
   "source": [
    "behavior_keys_dandisets"
   ]
  },
  {
   "cell_type": "code",
   "execution_count": 460,
   "metadata": {},
   "outputs": [
    {
     "data": {
      "text/html": [
       "<div>\n",
       "<style scoped>\n",
       "    .dataframe tbody tr th:only-of-type {\n",
       "        vertical-align: middle;\n",
       "    }\n",
       "\n",
       "    .dataframe tbody tr th {\n",
       "        vertical-align: top;\n",
       "    }\n",
       "\n",
       "    .dataframe thead th {\n",
       "        text-align: right;\n",
       "    }\n",
       "</style>\n",
       "<table border=\"1\" class=\"dataframe\">\n",
       "  <thead>\n",
       "    <tr style=\"text-align: right;\">\n",
       "      <th></th>\n",
       "      <th>dandiset_id</th>\n",
       "      <th>dandiset</th>\n",
       "      <th>behavior_keys</th>\n",
       "      <th>asset</th>\n",
       "      <th>ephys</th>\n",
       "    </tr>\n",
       "  </thead>\n",
       "  <tbody>\n",
       "    <tr>\n",
       "      <th>0</th>\n",
       "      <td>000003</td>\n",
       "      <td>DANDI:000003/0.250624.0409</td>\n",
       "      <td>[name, citation, description, assetsSummary.ap...</td>\n",
       "      <td>True</td>\n",
       "      <td>True</td>\n",
       "    </tr>\n",
       "    <tr>\n",
       "      <th>2</th>\n",
       "      <td>000006</td>\n",
       "      <td>DANDI:000006/0.220126.1855</td>\n",
       "      <td>[assetsSummary.approach.name, assetsSummary.va...</td>\n",
       "      <td>True</td>\n",
       "      <td>True</td>\n",
       "    </tr>\n",
       "    <tr>\n",
       "      <th>3</th>\n",
       "      <td>000009</td>\n",
       "      <td>DANDI:000009/0.220126.1903</td>\n",
       "      <td>[assetsSummary.approach.name, assetsSummary.va...</td>\n",
       "      <td>True</td>\n",
       "      <td>True</td>\n",
       "    </tr>\n",
       "    <tr>\n",
       "      <th>4</th>\n",
       "      <td>000010</td>\n",
       "      <td>DANDI:000010/0.220126.1905</td>\n",
       "      <td>[assetsSummary.approach.name, assetsSummary.va...</td>\n",
       "      <td>True</td>\n",
       "      <td>True</td>\n",
       "    </tr>\n",
       "    <tr>\n",
       "      <th>5</th>\n",
       "      <td>000011</td>\n",
       "      <td>DANDI:000011/0.220126.1907</td>\n",
       "      <td>[assetsSummary.approach.name, assetsSummary.va...</td>\n",
       "      <td>True</td>\n",
       "      <td>True</td>\n",
       "    </tr>\n",
       "    <tr>\n",
       "      <th>...</th>\n",
       "      <td>...</td>\n",
       "      <td>...</td>\n",
       "      <td>...</td>\n",
       "      <td>...</td>\n",
       "      <td>...</td>\n",
       "    </tr>\n",
       "    <tr>\n",
       "      <th>164</th>\n",
       "      <td>001347</td>\n",
       "      <td>DANDI:001347/0.250528.0702</td>\n",
       "      <td>[assetsSummary.approach.name, assetsSummary.va...</td>\n",
       "      <td>True</td>\n",
       "      <td>True</td>\n",
       "    </tr>\n",
       "    <tr>\n",
       "      <th>167</th>\n",
       "      <td>001371</td>\n",
       "      <td>DANDI:001371/draft</td>\n",
       "      <td>[description, assetsSummary.approach.name, ass...</td>\n",
       "      <td>True</td>\n",
       "      <td>True</td>\n",
       "    </tr>\n",
       "    <tr>\n",
       "      <th>174</th>\n",
       "      <td>001530</td>\n",
       "      <td>DANDI:001530/draft</td>\n",
       "      <td>[assetsSummary.approach.name, assetsSummary.va...</td>\n",
       "      <td>True</td>\n",
       "      <td>True</td>\n",
       "    </tr>\n",
       "    <tr>\n",
       "      <th>175</th>\n",
       "      <td>001533</td>\n",
       "      <td>DANDI:001533/draft</td>\n",
       "      <td>[assetsSummary.approach.name, assetsSummary.me...</td>\n",
       "      <td>True</td>\n",
       "      <td>True</td>\n",
       "    </tr>\n",
       "    <tr>\n",
       "      <th>176</th>\n",
       "      <td>001539</td>\n",
       "      <td>DANDI:001539/0.250804.1538</td>\n",
       "      <td>[description, assetsSummary.approach.name, ass...</td>\n",
       "      <td>True</td>\n",
       "      <td>True</td>\n",
       "    </tr>\n",
       "  </tbody>\n",
       "</table>\n",
       "<p>64 rows × 5 columns</p>\n",
       "</div>"
      ],
      "text/plain": [
       "    dandiset_id                    dandiset  \\\n",
       "0        000003  DANDI:000003/0.250624.0409   \n",
       "2        000006  DANDI:000006/0.220126.1855   \n",
       "3        000009  DANDI:000009/0.220126.1903   \n",
       "4        000010  DANDI:000010/0.220126.1905   \n",
       "5        000011  DANDI:000011/0.220126.1907   \n",
       "..          ...                         ...   \n",
       "164      001347  DANDI:001347/0.250528.0702   \n",
       "167      001371          DANDI:001371/draft   \n",
       "174      001530          DANDI:001530/draft   \n",
       "175      001533          DANDI:001533/draft   \n",
       "176      001539  DANDI:001539/0.250804.1538   \n",
       "\n",
       "                                         behavior_keys  asset  ephys  \n",
       "0    [name, citation, description, assetsSummary.ap...   True   True  \n",
       "2    [assetsSummary.approach.name, assetsSummary.va...   True   True  \n",
       "3    [assetsSummary.approach.name, assetsSummary.va...   True   True  \n",
       "4    [assetsSummary.approach.name, assetsSummary.va...   True   True  \n",
       "5    [assetsSummary.approach.name, assetsSummary.va...   True   True  \n",
       "..                                                 ...    ...    ...  \n",
       "164  [assetsSummary.approach.name, assetsSummary.va...   True   True  \n",
       "167  [description, assetsSummary.approach.name, ass...   True   True  \n",
       "174  [assetsSummary.approach.name, assetsSummary.va...   True   True  \n",
       "175  [assetsSummary.approach.name, assetsSummary.me...   True   True  \n",
       "176  [description, assetsSummary.approach.name, ass...   True   True  \n",
       "\n",
       "[64 rows x 5 columns]"
      ]
     },
     "execution_count": 460,
     "metadata": {},
     "output_type": "execute_result"
    }
   ],
   "source": [
    "behavior_assets_dandisets = behavior_keys_dandisets[(behavior_keys_dandisets['asset']==True) & \n",
    "                                                    (behavior_keys_dandisets['ephys']==True)\n",
    "                                                    ]\n",
    "behavior_assets_dandisets"
   ]
  },
  {
   "cell_type": "code",
   "execution_count": 461,
   "metadata": {},
   "outputs": [
    {
     "data": {
      "application/vnd.jupyter.widget-view+json": {
       "model_id": "2016a3864576488d8e6f0014c5ad2859",
       "version_major": 2,
       "version_minor": 0
      },
      "text/plain": [
       "  0%|          | 0/420 [00:00<?, ?it/s]"
      ]
     },
     "metadata": {},
     "output_type": "display_data"
    },
    {
     "name": "stdout",
     "output_type": "stream",
     "text": [
      "122\n"
     ]
    }
   ],
   "source": [
    "beh_asset_nwb_dandisets = []\n",
    "\n",
    "for dset in tqdm(nwb_dandisets):\n",
    "    raw_metadata = dset.get_raw_metadata()\n",
    "\n",
    "    approaches = raw_metadata['assetsSummary'].get('approach', [])\n",
    "    measurement_techniques = raw_metadata['assetsSummary'].get('measurementTechnique', [])\n",
    "    variables_measured = raw_metadata['assetsSummary'].get('variableMeasured', [])\n",
    "\n",
    "    if (\n",
    "        any('behavior' in a.get('name', '').lower() for a in approaches) or\n",
    "        any('behavior' in m.get('name', '').lower() for m in measurement_techniques) or\n",
    "        any('behavior' in str(v).lower() for v in variables_measured)\n",
    "    ):\n",
    "        beh_asset_nwb_dandisets.append(dset)\n",
    "\n",
    "print(len(beh_asset_nwb_dandisets))\n",
    "\n"
   ]
  },
  {
   "cell_type": "markdown",
   "metadata": {},
   "source": [
    "# read nwb via lindi "
   ]
  },
  {
   "cell_type": "code",
   "execution_count": 464,
   "metadata": {},
   "outputs": [],
   "source": [
    "dandiset_id = behavior_assets_dandisets.iloc[1]['dandiset'].get_raw_metadata()['id'].split('/')[0].split(':')[-1]\n",
    "s3_urls = get_s3_urls_and_dandi_paths(dandiset_id=dandiset_id)\n",
    "# print(s3_urls)\n",
    "# print(list(s3_urls.values()))\n",
    "\n",
    "filepath = list(s3_urls.values())[0]\n",
    "\n",
    "with DandiAPIClient() as client:\n",
    "    asset = client.get_dandiset(dandiset_id).get_asset_by_path(filepath)\n",
    "    s3_url = asset.get_content_url(follow_redirects=1, strip_query=True)\n",
    "f = lindi.LindiH5pyFile.from_hdf5_file(asset.download_url)\n",
    "nwb = pynwb.NWBHDF5IO(file=f, mode='r').read()"
   ]
  },
  {
   "cell_type": "code",
   "execution_count": 465,
   "metadata": {},
   "outputs": [
    {
     "data": {
      "text/plain": [
       "dict_values([root pynwb.file.NWBFile at 0x6288612832\n",
       "Fields:\n",
       "  acquisition: {\n",
       "    lick_times <class 'pynwb.behavior.BehavioralEvents'>\n",
       "  }\n",
       "  devices: {\n",
       "    H-129 <class 'pynwb.device.Device'>\n",
       "  }\n",
       "  electrode_groups: {\n",
       "    H-129: 64 <class 'pynwb.ecephys.ElectrodeGroup'>\n",
       "  }\n",
       "  electrodes: electrodes <class 'pynwb.ecephys.ElectrodesTable'>\n",
       "  experiment_description: Extracellular electrophysiology recordings performed on mouse anterior lateral motor cortex (ALM) in delay response task. Neural activity from two neuron populations, pyramidal track upper and lower, were characterized, in relation to movement execution.\n",
       "  experimenter: ['Mike Economo']\n",
       "  file_create_date: [datetime.datetime(2019, 10, 7, 17, 40, 36, 567483, tzinfo=tzoffset(None, -18000))]\n",
       "  identifier: anm369962_2017-03-09_0\n",
       "  institution: Janelia Research Campus\n",
       "  intervals: {\n",
       "    trials <class 'pynwb.epoch.TimeIntervals'>\n",
       "  }\n",
       "  keywords: <LindiH5pyDataset: /general/keywords>\n",
       "  related_publications: ['doi:10.1038/s41586-018-0642-9']\n",
       "  session_start_time: 2017-03-09 00:00:00-06:00\n",
       "  subject: subject pynwb.file.Subject at 0x13824910480\n",
       "Fields:\n",
       "  sex: U\n",
       "  species: Mus musculus\n",
       "  subject_id: anm369962\n",
       "\n",
       "  timestamps_reference_time: 2017-03-09 00:00:00-06:00\n",
       "  trials: trials <class 'pynwb.epoch.TimeIntervals'>\n",
       "  units: units <class 'pynwb.misc.Units'>\n",
       ", units pynwb.misc.Units at 0x6068938512\n",
       "Fields:\n",
       "  colnames: ['depth' 'quality' 'cell_type' 'spike_times' 'electrodes']\n",
       "  columns: (\n",
       "    depth <class 'hdmf.common.table.VectorData'>,\n",
       "    quality <class 'hdmf.common.table.VectorData'>,\n",
       "    cell_type <class 'hdmf.common.table.VectorData'>,\n",
       "    spike_times_index <class 'hdmf.common.table.VectorIndex'>,\n",
       "    spike_times <class 'hdmf.common.table.VectorData'>,\n",
       "    electrodes_index <class 'hdmf.common.table.VectorIndex'>,\n",
       "    electrodes <class 'hdmf.common.table.DynamicTableRegion'>\n",
       "  )\n",
       "  description: Autogenerated by NWBFile\n",
       "  id: id <class 'hdmf.common.table.ElementIdentifiers'>\n",
       "  waveform_unit: volts\n",
       ", electrodes hdmf.common.table.DynamicTableRegion at 0x13824787392\n",
       "    Target table: electrodes pynwb.ecephys.ElectrodesTable at 0x5751974368\n",
       ", <hdmf.common.table.VectorIndex object at 0x155860e90>, <hdmf.common.table.VectorData object at 0x338059c80>, <hdmf.common.table.VectorIndex object at 0x155862f90>, <hdmf.common.table.VectorData object at 0x176d4a780>, <hdmf.common.table.VectorData object at 0x176d4a8e0>, <hdmf.common.table.VectorData object at 0x176d4a830>, <hdmf.common.table.ElementIdentifiers object at 0x338058470>, subject pynwb.file.Subject at 0x13824910480\n",
       "Fields:\n",
       "  sex: U\n",
       "  species: Mus musculus\n",
       "  subject_id: anm369962\n",
       ", trials pynwb.epoch.TimeIntervals at 0x6068934352\n",
       "Fields:\n",
       "  colnames: ['start_time' 'stop_time' 'type' 'response' 'stim_present' 'is_good'\n",
       " 'cue_start_time' 'pole_in_time' 'pole_out_time']\n",
       "  columns: (\n",
       "    start_time <class 'hdmf.common.table.VectorData'>,\n",
       "    stop_time <class 'hdmf.common.table.VectorData'>,\n",
       "    type <class 'hdmf.common.table.VectorData'>,\n",
       "    response <class 'hdmf.common.table.VectorData'>,\n",
       "    stim_present <class 'hdmf.common.table.VectorData'>,\n",
       "    is_good <class 'hdmf.common.table.VectorData'>,\n",
       "    cue_start_time <class 'hdmf.common.table.VectorData'>,\n",
       "    pole_in_time <class 'hdmf.common.table.VectorData'>,\n",
       "    pole_out_time <class 'hdmf.common.table.VectorData'>\n",
       "  )\n",
       "  description: experimental trials\n",
       "  id: id <class 'hdmf.common.table.ElementIdentifiers'>\n",
       ", <hdmf.common.table.VectorData object at 0x3380581b0>, <hdmf.common.table.VectorData object at 0x338059d30>, <hdmf.common.table.VectorData object at 0x338058050>, <hdmf.common.table.VectorData object at 0x338059bd0>, <hdmf.common.table.VectorData object at 0x338059b20>, <hdmf.common.table.VectorData object at 0x338058260>, <hdmf.common.table.VectorData object at 0x338059a70>, <hdmf.common.table.VectorData object at 0x176d4ac50>, <hdmf.common.table.VectorData object at 0x176d4b070>, <hdmf.common.table.ElementIdentifiers object at 0x176d4b120>, H-129 pynwb.device.Device at 0x13824910640, H-129: 64 pynwb.ecephys.ElectrodeGroup at 0x13824911440\n",
       "Fields:\n",
       "  description: N/A\n",
       "  device: H-129 pynwb.device.Device at 0x13824910640\n",
       "  location: brain_region: ALM; brain_subregion: N/A; cortical_layer: 5; hemisphere: left; brain_location_full_name: N/A\n",
       ", electrodes pynwb.ecephys.ElectrodesTable at 0x5751974368\n",
       "Fields:\n",
       "  colnames: ['x' 'y' 'z' 'imp' 'location' 'filtering' 'group' 'group_name']\n",
       "  columns: (\n",
       "    x <class 'hdmf.common.table.VectorData'>,\n",
       "    y <class 'hdmf.common.table.VectorData'>,\n",
       "    z <class 'hdmf.common.table.VectorData'>,\n",
       "    imp <class 'hdmf.common.table.VectorData'>,\n",
       "    location <class 'hdmf.common.table.VectorData'>,\n",
       "    filtering <class 'hdmf.common.table.VectorData'>,\n",
       "    group <class 'hdmf.common.table.VectorData'>,\n",
       "    group_name <class 'hdmf.common.table.VectorData'>\n",
       "  )\n",
       "  description: metadata about extracellular electrodes\n",
       "  id: id <class 'hdmf.common.table.ElementIdentifiers'>\n",
       ", <hdmf.common.table.VectorData object at 0x176d4a360>, <hdmf.common.table.VectorData object at 0x176d4a990>, <hdmf.common.table.VectorData object at 0x176d4aaf0>, <hdmf.common.table.VectorData object at 0x176d4a620>, <hdmf.common.table.VectorData object at 0x176d4ad00>, <hdmf.common.table.VectorData object at 0x176d4a2b0>, <hdmf.common.table.VectorData object at 0x176d4a570>, <hdmf.common.table.VectorData object at 0x176d4a6d0>, <hdmf.common.table.ElementIdentifiers object at 0x176d4aa40>, lick_times pynwb.behavior.BehavioralEvents at 0x13824910320\n",
       "Fields:\n",
       "  time_series: {\n",
       "    lick_left_times <class 'pynwb.base.TimeSeries'>,\n",
       "    lick_right_times <class 'pynwb.base.TimeSeries'>\n",
       "  }\n",
       ", lick_right_times pynwb.base.TimeSeries at 0x13824908720\n",
       "Fields:\n",
       "  comments: no comments\n",
       "  conversion: 1.0\n",
       "  data: <LindiH5pyDataset: /acquisition/lick_times/lick_right_times/data>\n",
       "  description: no description\n",
       "  interval: 1\n",
       "  offset: 0.0\n",
       "  resolution: 0.0\n",
       "  timestamps: <LindiH5pyDataset: /acquisition/lick_times/lick_right_times/timestamps>\n",
       "  timestamps_unit: seconds\n",
       "  unit: a.u.\n",
       ", lick_left_times pynwb.base.TimeSeries at 0x13824908080\n",
       "Fields:\n",
       "  comments: no comments\n",
       "  conversion: 1.0\n",
       "  data: <LindiH5pyDataset: /acquisition/lick_times/lick_left_times/data>\n",
       "  description: no description\n",
       "  interval: 1\n",
       "  offset: 0.0\n",
       "  resolution: 0.0\n",
       "  timestamps: <LindiH5pyDataset: /acquisition/lick_times/lick_left_times/timestamps>\n",
       "  timestamps_unit: seconds\n",
       "  unit: a.u.\n",
       "])"
      ]
     },
     "execution_count": 465,
     "metadata": {},
     "output_type": "execute_result"
    }
   ],
   "source": [
    "nwb.objects.values()"
   ]
  },
  {
   "cell_type": "code",
   "execution_count": 466,
   "metadata": {},
   "outputs": [
    {
     "data": {
      "text/plain": [
       "np.str_('Extracellular electrophysiology recordings performed on mouse anterior lateral motor cortex (ALM) in delay response task. Neural activity from two neuron populations, pyramidal track upper and lower, were characterized, in relation to movement execution.')"
      ]
     },
     "execution_count": 466,
     "metadata": {},
     "output_type": "execute_result"
    }
   ],
   "source": [
    "nwb.experiment_description"
   ]
  },
  {
   "cell_type": "code",
   "execution_count": 288,
   "metadata": {},
   "outputs": [
    {
     "data": {
      "text/plain": [
       "[lick_right_times pynwb.base.TimeSeries at 0x5487907440\n",
       " Fields:\n",
       "   comments: no comments\n",
       "   conversion: 1.0\n",
       "   data: <LindiH5pyDataset: /acquisition/lick_times/lick_right_times/data>\n",
       "   description: no description\n",
       "   interval: 1\n",
       "   offset: 0.0\n",
       "   resolution: 0.0\n",
       "   timestamps: <LindiH5pyDataset: /acquisition/lick_times/lick_right_times/timestamps>\n",
       "   timestamps_unit: seconds\n",
       "   unit: a.u.,\n",
       " lick_left_times pynwb.base.TimeSeries at 0x5487904720\n",
       " Fields:\n",
       "   comments: no comments\n",
       "   conversion: 1.0\n",
       "   data: <LindiH5pyDataset: /acquisition/lick_times/lick_left_times/data>\n",
       "   description: no description\n",
       "   interval: 1\n",
       "   offset: 0.0\n",
       "   resolution: 0.0\n",
       "   timestamps: <LindiH5pyDataset: /acquisition/lick_times/lick_left_times/timestamps>\n",
       "   timestamps_unit: seconds\n",
       "   unit: a.u.]"
      ]
     },
     "execution_count": 288,
     "metadata": {},
     "output_type": "execute_result"
    }
   ],
   "source": [
    "[x for x in nwb.objects.values() if isinstance(x, pynwb.behavior.TimeSeries)]"
   ]
  },
  {
   "cell_type": "code",
   "execution_count": 487,
   "metadata": {},
   "outputs": [
    {
     "ename": "AttributeError",
     "evalue": "'str' object has no attribute 'get_storage_size'",
     "output_type": "error",
     "traceback": [
      "\u001b[31m---------------------------------------------------------------------------\u001b[39m",
      "\u001b[31mAttributeError\u001b[39m                            Traceback (most recent call last)",
      "\u001b[36mFile \u001b[39m\u001b[32m/opt/anaconda3/envs/bootcamp/lib/python3.13/site-packages/IPython/core/formatters.py:406\u001b[39m, in \u001b[36mBaseFormatter.__call__\u001b[39m\u001b[34m(self, obj)\u001b[39m\n\u001b[32m    404\u001b[39m     method = get_real_method(obj, \u001b[38;5;28mself\u001b[39m.print_method)\n\u001b[32m    405\u001b[39m     \u001b[38;5;28;01mif\u001b[39;00m method \u001b[38;5;129;01mis\u001b[39;00m \u001b[38;5;129;01mnot\u001b[39;00m \u001b[38;5;28;01mNone\u001b[39;00m:\n\u001b[32m--> \u001b[39m\u001b[32m406\u001b[39m         \u001b[38;5;28;01mreturn\u001b[39;00m \u001b[43mmethod\u001b[49m\u001b[43m(\u001b[49m\u001b[43m)\u001b[49m\n\u001b[32m    407\u001b[39m     \u001b[38;5;28;01mreturn\u001b[39;00m \u001b[38;5;28;01mNone\u001b[39;00m\n\u001b[32m    408\u001b[39m \u001b[38;5;28;01melse\u001b[39;00m:\n",
      "\u001b[36mFile \u001b[39m\u001b[32m/opt/anaconda3/envs/bootcamp/lib/python3.13/site-packages/hdmf/container.py:676\u001b[39m, in \u001b[36mContainer._repr_html_\u001b[39m\u001b[34m(self)\u001b[39m\n\u001b[32m    674\u001b[39m html_repr += \u001b[33m\"\u001b[39m\u001b[33m<div class=\u001b[39m\u001b[33m'\u001b[39m\u001b[33mcontainer-wrap\u001b[39m\u001b[33m'\u001b[39m\u001b[33m>\u001b[39m\u001b[33m\"\u001b[39m\n\u001b[32m    675\u001b[39m html_repr += \u001b[33mf\u001b[39m\u001b[33m\"\u001b[39m\u001b[33m<div class=\u001b[39m\u001b[33m'\u001b[39m\u001b[33mcontainer-header\u001b[39m\u001b[33m'\u001b[39m\u001b[33m><div class=\u001b[39m\u001b[33m'\u001b[39m\u001b[33mxr-obj-type\u001b[39m\u001b[33m'\u001b[39m\u001b[33m><h3>\u001b[39m\u001b[38;5;132;01m{\u001b[39;00mheader_text\u001b[38;5;132;01m}\u001b[39;00m\u001b[33m</h3></div></div>\u001b[39m\u001b[33m\"\u001b[39m\n\u001b[32m--> \u001b[39m\u001b[32m676\u001b[39m html_repr += \u001b[38;5;28;43mself\u001b[39;49m\u001b[43m.\u001b[49m\u001b[43m_generate_html_repr\u001b[49m\u001b[43m(\u001b[49m\u001b[38;5;28;43mself\u001b[39;49m\u001b[43m.\u001b[49m\u001b[43mfields\u001b[49m\u001b[43m,\u001b[49m\u001b[43m \u001b[49m\u001b[43mis_field\u001b[49m\u001b[43m=\u001b[49m\u001b[38;5;28;43;01mTrue\u001b[39;49;00m\u001b[43m)\u001b[49m\n\u001b[32m    677\u001b[39m html_repr += \u001b[33m\"\u001b[39m\u001b[33m</div>\u001b[39m\u001b[33m\"\u001b[39m\n\u001b[32m    678\u001b[39m \u001b[38;5;28;01mreturn\u001b[39;00m html_repr\n",
      "\u001b[36mFile \u001b[39m\u001b[32m/opt/anaconda3/envs/bootcamp/lib/python3.13/site-packages/hdmf/container.py:690\u001b[39m, in \u001b[36mContainer._generate_html_repr\u001b[39m\u001b[34m(self, fields, level, access_code, is_field)\u001b[39m\n\u001b[32m    688\u001b[39m             html_repr += value._generate_field_html(key, value, level, current_access_code)\n\u001b[32m    689\u001b[39m         \u001b[38;5;28;01melse\u001b[39;00m:\n\u001b[32m--> \u001b[39m\u001b[32m690\u001b[39m             html_repr += \u001b[38;5;28;43mself\u001b[39;49m\u001b[43m.\u001b[49m\u001b[43m_generate_field_html\u001b[49m\u001b[43m(\u001b[49m\u001b[43mkey\u001b[49m\u001b[43m,\u001b[49m\u001b[43m \u001b[49m\u001b[43mvalue\u001b[49m\u001b[43m,\u001b[49m\u001b[43m \u001b[49m\u001b[43mlevel\u001b[49m\u001b[43m,\u001b[49m\u001b[43m \u001b[49m\u001b[43mcurrent_access_code\u001b[49m\u001b[43m)\u001b[49m\n\u001b[32m    691\u001b[39m \u001b[38;5;28;01melif\u001b[39;00m \u001b[38;5;28misinstance\u001b[39m(fields, \u001b[38;5;28mlist\u001b[39m):\n\u001b[32m    692\u001b[39m     \u001b[38;5;28;01mfor\u001b[39;00m index, item \u001b[38;5;129;01min\u001b[39;00m \u001b[38;5;28menumerate\u001b[39m(fields):\n",
      "\u001b[36mFile \u001b[39m\u001b[32m/opt/anaconda3/envs/bootcamp/lib/python3.13/site-packages/hdmf/container.py:725\u001b[39m, in \u001b[36mContainer._generate_field_html\u001b[39m\u001b[34m(self, key, value, level, access_code)\u001b[39m\n\u001b[32m    723\u001b[39m     html_content = \u001b[38;5;28mself\u001b[39m._generate_html_repr(value.fields, level + \u001b[32m1\u001b[39m, access_code, is_field=\u001b[38;5;28;01mTrue\u001b[39;00m)\n\u001b[32m    724\u001b[39m \u001b[38;5;28;01melif\u001b[39;00m \u001b[38;5;28misinstance\u001b[39m(value, (\u001b[38;5;28mlist\u001b[39m, \u001b[38;5;28mdict\u001b[39m, np.ndarray)):\n\u001b[32m--> \u001b[39m\u001b[32m725\u001b[39m     html_content = \u001b[38;5;28;43mself\u001b[39;49m\u001b[43m.\u001b[49m\u001b[43m_generate_html_repr\u001b[49m\u001b[43m(\u001b[49m\u001b[43mvalue\u001b[49m\u001b[43m,\u001b[49m\u001b[43m \u001b[49m\u001b[43mlevel\u001b[49m\u001b[43m \u001b[49m\u001b[43m+\u001b[49m\u001b[43m \u001b[49m\u001b[32;43m1\u001b[39;49m\u001b[43m,\u001b[49m\u001b[43m \u001b[49m\u001b[43maccess_code\u001b[49m\u001b[43m,\u001b[49m\u001b[43m \u001b[49m\u001b[43mis_field\u001b[49m\u001b[43m=\u001b[49m\u001b[38;5;28;43;01mFalse\u001b[39;49;00m\u001b[43m)\u001b[49m\n\u001b[32m    726\u001b[39m \u001b[38;5;28;01melse\u001b[39;00m:\n\u001b[32m    727\u001b[39m     html_content = \u001b[33mf\u001b[39m\u001b[33m'\u001b[39m\u001b[33m<span class=\u001b[39m\u001b[33m\"\u001b[39m\u001b[33mfield-key\u001b[39m\u001b[33m\"\u001b[39m\u001b[33m>\u001b[39m\u001b[38;5;132;01m{\u001b[39;00mvalue\u001b[38;5;132;01m}\u001b[39;00m\u001b[33m</span>\u001b[39m\u001b[33m'\u001b[39m\n",
      "\u001b[36mFile \u001b[39m\u001b[32m/opt/anaconda3/envs/bootcamp/lib/python3.13/site-packages/hdmf/container.py:688\u001b[39m, in \u001b[36mContainer._generate_html_repr\u001b[39m\u001b[34m(self, fields, level, access_code, is_field)\u001b[39m\n\u001b[32m    686\u001b[39m current_access_code = \u001b[33mf\u001b[39m\u001b[33m\"\u001b[39m\u001b[38;5;132;01m{\u001b[39;00maccess_code\u001b[38;5;132;01m}\u001b[39;00m\u001b[33m.\u001b[39m\u001b[38;5;132;01m{\u001b[39;00mkey\u001b[38;5;132;01m}\u001b[39;00m\u001b[33m\"\u001b[39m \u001b[38;5;28;01mif\u001b[39;00m is_field \u001b[38;5;28;01melse\u001b[39;00m \u001b[33mf\u001b[39m\u001b[33m\"\u001b[39m\u001b[38;5;132;01m{\u001b[39;00maccess_code\u001b[38;5;132;01m}\u001b[39;00m\u001b[33m[\u001b[39m\u001b[33m'\u001b[39m\u001b[38;5;132;01m{\u001b[39;00mkey\u001b[38;5;132;01m}\u001b[39;00m\u001b[33m'\u001b[39m\u001b[33m]\u001b[39m\u001b[33m\"\u001b[39m\n\u001b[32m    687\u001b[39m \u001b[38;5;28;01mif\u001b[39;00m \u001b[38;5;28mhasattr\u001b[39m(value, \u001b[33m'\u001b[39m\u001b[33m_generate_field_html\u001b[39m\u001b[33m'\u001b[39m):\n\u001b[32m--> \u001b[39m\u001b[32m688\u001b[39m     html_repr += \u001b[43mvalue\u001b[49m\u001b[43m.\u001b[49m\u001b[43m_generate_field_html\u001b[49m\u001b[43m(\u001b[49m\u001b[43mkey\u001b[49m\u001b[43m,\u001b[49m\u001b[43m \u001b[49m\u001b[43mvalue\u001b[49m\u001b[43m,\u001b[49m\u001b[43m \u001b[49m\u001b[43mlevel\u001b[49m\u001b[43m,\u001b[49m\u001b[43m \u001b[49m\u001b[43mcurrent_access_code\u001b[49m\u001b[43m)\u001b[49m\n\u001b[32m    689\u001b[39m \u001b[38;5;28;01melse\u001b[39;00m:\n\u001b[32m    690\u001b[39m     html_repr += \u001b[38;5;28mself\u001b[39m._generate_field_html(key, value, level, current_access_code)\n",
      "\u001b[36mFile \u001b[39m\u001b[32m/opt/anaconda3/envs/bootcamp/lib/python3.13/site-packages/pynwb/base.py:386\u001b[39m, in \u001b[36mTimeSeries._generate_field_html\u001b[39m\u001b[34m(self, key, value, level, access_code)\u001b[39m\n\u001b[32m    383\u001b[39m     linked_key = \u001b[33m'\u001b[39m\u001b[33mtimestamps\u001b[39m\u001b[33m'\u001b[39m \u001b[38;5;28;01mif\u001b[39;00m key == \u001b[33m'\u001b[39m\u001b[33mtimestamp_link\u001b[39m\u001b[33m'\u001b[39m \u001b[38;5;28;01melse\u001b[39;00m \u001b[33m'\u001b[39m\u001b[33mdata\u001b[39m\u001b[33m'\u001b[39m\n\u001b[32m    384\u001b[39m     value = [find_location_in_memory_nwbfile(linked_key, v) \u001b[38;5;28;01mfor\u001b[39;00m v \u001b[38;5;129;01min\u001b[39;00m value]\n\u001b[32m--> \u001b[39m\u001b[32m386\u001b[39m \u001b[38;5;28;01mreturn\u001b[39;00m \u001b[38;5;28;43msuper\u001b[39;49m\u001b[43m(\u001b[49m\u001b[43m)\u001b[49m\u001b[43m.\u001b[49m\u001b[43m_generate_field_html\u001b[49m\u001b[43m(\u001b[49m\u001b[43mkey\u001b[49m\u001b[43m,\u001b[49m\u001b[43m \u001b[49m\u001b[43mvalue\u001b[49m\u001b[43m,\u001b[49m\u001b[43m \u001b[49m\u001b[43mlevel\u001b[49m\u001b[43m,\u001b[49m\u001b[43m \u001b[49m\u001b[43maccess_code\u001b[49m\u001b[43m)\u001b[49m\n",
      "\u001b[36mFile \u001b[39m\u001b[32m/opt/anaconda3/envs/bootcamp/lib/python3.13/site-packages/hdmf/container.py:723\u001b[39m, in \u001b[36mContainer._generate_field_html\u001b[39m\u001b[34m(self, key, value, level, access_code)\u001b[39m\n\u001b[32m    721\u001b[39m     html_content = value.__repr_html__()\n\u001b[32m    722\u001b[39m \u001b[38;5;28;01melif\u001b[39;00m \u001b[38;5;28mhasattr\u001b[39m(value, \u001b[33m\"\u001b[39m\u001b[33mfields\u001b[39m\u001b[33m\"\u001b[39m):  \u001b[38;5;66;03m# Note that h5py.Dataset has a fields attribute so there is an implicit order\u001b[39;00m\n\u001b[32m--> \u001b[39m\u001b[32m723\u001b[39m     html_content = \u001b[38;5;28;43mself\u001b[39;49m\u001b[43m.\u001b[49m\u001b[43m_generate_html_repr\u001b[49m\u001b[43m(\u001b[49m\u001b[43mvalue\u001b[49m\u001b[43m.\u001b[49m\u001b[43mfields\u001b[49m\u001b[43m,\u001b[49m\u001b[43m \u001b[49m\u001b[43mlevel\u001b[49m\u001b[43m \u001b[49m\u001b[43m+\u001b[49m\u001b[43m \u001b[49m\u001b[32;43m1\u001b[39;49m\u001b[43m,\u001b[49m\u001b[43m \u001b[49m\u001b[43maccess_code\u001b[49m\u001b[43m,\u001b[49m\u001b[43m \u001b[49m\u001b[43mis_field\u001b[49m\u001b[43m=\u001b[49m\u001b[38;5;28;43;01mTrue\u001b[39;49;00m\u001b[43m)\u001b[49m\n\u001b[32m    724\u001b[39m \u001b[38;5;28;01melif\u001b[39;00m \u001b[38;5;28misinstance\u001b[39m(value, (\u001b[38;5;28mlist\u001b[39m, \u001b[38;5;28mdict\u001b[39m, np.ndarray)):\n\u001b[32m    725\u001b[39m     html_content = \u001b[38;5;28mself\u001b[39m._generate_html_repr(value, level + \u001b[32m1\u001b[39m, access_code, is_field=\u001b[38;5;28;01mFalse\u001b[39;00m)\n",
      "\u001b[36mFile \u001b[39m\u001b[32m/opt/anaconda3/envs/bootcamp/lib/python3.13/site-packages/hdmf/container.py:690\u001b[39m, in \u001b[36mContainer._generate_html_repr\u001b[39m\u001b[34m(self, fields, level, access_code, is_field)\u001b[39m\n\u001b[32m    688\u001b[39m             html_repr += value._generate_field_html(key, value, level, current_access_code)\n\u001b[32m    689\u001b[39m         \u001b[38;5;28;01melse\u001b[39;00m:\n\u001b[32m--> \u001b[39m\u001b[32m690\u001b[39m             html_repr += \u001b[38;5;28;43mself\u001b[39;49m\u001b[43m.\u001b[49m\u001b[43m_generate_field_html\u001b[49m\u001b[43m(\u001b[49m\u001b[43mkey\u001b[49m\u001b[43m,\u001b[49m\u001b[43m \u001b[49m\u001b[43mvalue\u001b[49m\u001b[43m,\u001b[49m\u001b[43m \u001b[49m\u001b[43mlevel\u001b[49m\u001b[43m,\u001b[49m\u001b[43m \u001b[49m\u001b[43mcurrent_access_code\u001b[49m\u001b[43m)\u001b[49m\n\u001b[32m    691\u001b[39m \u001b[38;5;28;01melif\u001b[39;00m \u001b[38;5;28misinstance\u001b[39m(fields, \u001b[38;5;28mlist\u001b[39m):\n\u001b[32m    692\u001b[39m     \u001b[38;5;28;01mfor\u001b[39;00m index, item \u001b[38;5;129;01min\u001b[39;00m \u001b[38;5;28menumerate\u001b[39m(fields):\n",
      "\u001b[36mFile \u001b[39m\u001b[32m/opt/anaconda3/envs/bootcamp/lib/python3.13/site-packages/pynwb/base.py:386\u001b[39m, in \u001b[36mTimeSeries._generate_field_html\u001b[39m\u001b[34m(self, key, value, level, access_code)\u001b[39m\n\u001b[32m    383\u001b[39m     linked_key = \u001b[33m'\u001b[39m\u001b[33mtimestamps\u001b[39m\u001b[33m'\u001b[39m \u001b[38;5;28;01mif\u001b[39;00m key == \u001b[33m'\u001b[39m\u001b[33mtimestamp_link\u001b[39m\u001b[33m'\u001b[39m \u001b[38;5;28;01melse\u001b[39;00m \u001b[33m'\u001b[39m\u001b[33mdata\u001b[39m\u001b[33m'\u001b[39m\n\u001b[32m    384\u001b[39m     value = [find_location_in_memory_nwbfile(linked_key, v) \u001b[38;5;28;01mfor\u001b[39;00m v \u001b[38;5;129;01min\u001b[39;00m value]\n\u001b[32m--> \u001b[39m\u001b[32m386\u001b[39m \u001b[38;5;28;01mreturn\u001b[39;00m \u001b[38;5;28;43msuper\u001b[39;49m\u001b[43m(\u001b[49m\u001b[43m)\u001b[49m\u001b[43m.\u001b[49m\u001b[43m_generate_field_html\u001b[49m\u001b[43m(\u001b[49m\u001b[43mkey\u001b[49m\u001b[43m,\u001b[49m\u001b[43m \u001b[49m\u001b[43mvalue\u001b[49m\u001b[43m,\u001b[49m\u001b[43m \u001b[49m\u001b[43mlevel\u001b[49m\u001b[43m,\u001b[49m\u001b[43m \u001b[49m\u001b[43maccess_code\u001b[49m\u001b[43m)\u001b[49m\n",
      "\u001b[36mFile \u001b[39m\u001b[32m/opt/anaconda3/envs/bootcamp/lib/python3.13/site-packages/hdmf/container.py:717\u001b[39m, in \u001b[36mContainer._generate_field_html\u001b[39m\u001b[34m(self, key, value, level, access_code)\u001b[39m\n\u001b[32m    714\u001b[39m is_array_data = \u001b[38;5;28mhasattr\u001b[39m(value, \u001b[33m\"\u001b[39m\u001b[33mshape\u001b[39m\u001b[33m\"\u001b[39m) \u001b[38;5;129;01mand\u001b[39;00m \u001b[38;5;28mhasattr\u001b[39m(value, \u001b[33m\"\u001b[39m\u001b[33mdtype\u001b[39m\u001b[33m\"\u001b[39m)\n\u001b[32m    716\u001b[39m \u001b[38;5;28;01mif\u001b[39;00m is_array_data:\n\u001b[32m--> \u001b[39m\u001b[32m717\u001b[39m     html_content = \u001b[38;5;28;43mself\u001b[39;49m\u001b[43m.\u001b[49m\u001b[43m_generate_array_html\u001b[49m\u001b[43m(\u001b[49m\u001b[43mvalue\u001b[49m\u001b[43m,\u001b[49m\u001b[43m \u001b[49m\u001b[43mlevel\u001b[49m\u001b[43m \u001b[49m\u001b[43m+\u001b[49m\u001b[43m \u001b[49m\u001b[32;43m1\u001b[39;49m\u001b[43m)\u001b[49m\n\u001b[32m    718\u001b[39m \u001b[38;5;28;01melif\u001b[39;00m \u001b[38;5;28mhasattr\u001b[39m(value, \u001b[33m\"\u001b[39m\u001b[33mgenerate_html_repr\u001b[39m\u001b[33m\"\u001b[39m):\n\u001b[32m    719\u001b[39m     html_content = value.generate_html_repr(level + \u001b[32m1\u001b[39m, access_code)\n",
      "\u001b[36mFile \u001b[39m\u001b[32m/opt/anaconda3/envs/bootcamp/lib/python3.13/site-packages/hdmf/container.py:759\u001b[39m, in \u001b[36mContainer._generate_array_html\u001b[39m\u001b[34m(self, array, level)\u001b[39m\n\u001b[32m    753\u001b[39m     repr_html = generate_array_html_repr(array_info_dict, array.data, \u001b[33m\"\u001b[39m\u001b[33mDataIO\u001b[39m\u001b[33m\"\u001b[39m)\n\u001b[32m    754\u001b[39m \u001b[38;5;28;01melif\u001b[39;00m it_was_read_with_io:\n\u001b[32m    755\u001b[39m     \u001b[38;5;66;03m# The backend handles the representation here. Two special cases worth noting:\u001b[39;00m\n\u001b[32m    756\u001b[39m     \u001b[38;5;66;03m# 1. Array-type attributes (e.g., start_frame in ImageSeries) remain NumPy arrays\u001b[39;00m\n\u001b[32m    757\u001b[39m     \u001b[38;5;66;03m#    even when their parent container has an IO\u001b[39;00m\n\u001b[32m    758\u001b[39m     \u001b[38;5;66;03m# 2. Data may have been modified after being read from storage\u001b[39;00m\n\u001b[32m--> \u001b[39m\u001b[32m759\u001b[39m     repr_html = \u001b[43mread_io\u001b[49m\u001b[43m.\u001b[49m\u001b[43mgenerate_dataset_html\u001b[49m\u001b[43m(\u001b[49m\u001b[43marray\u001b[49m\u001b[43m)\u001b[49m\n\u001b[32m    760\u001b[39m \u001b[38;5;28;01melse\u001b[39;00m:  \u001b[38;5;66;03m# Not sure which object could get here\u001b[39;00m\n\u001b[32m    761\u001b[39m     object_class = array.\u001b[34m__class__\u001b[39m.\u001b[34m__name__\u001b[39m\n",
      "\u001b[36mFile \u001b[39m\u001b[32m/opt/anaconda3/envs/bootcamp/lib/python3.13/site-packages/hdmf/backends/hdf5/h5tools.py:1502\u001b[39m, in \u001b[36mHDF5IO.generate_dataset_html\u001b[39m\u001b[34m(dataset)\u001b[39m\n\u001b[32m   1500\u001b[39m dataset_type = \u001b[33m\"\u001b[39m\u001b[33mHDF5 dataset\u001b[39m\u001b[33m\"\u001b[39m\n\u001b[32m   1501\u001b[39m \u001b[38;5;66;03m# get info from hdf5 dataset\u001b[39;00m\n\u001b[32m-> \u001b[39m\u001b[32m1502\u001b[39m compressed_size = \u001b[43mdataset\u001b[49m\u001b[43m.\u001b[49m\u001b[43mid\u001b[49m\u001b[43m.\u001b[49m\u001b[43mget_storage_size\u001b[49m()\n\u001b[32m   1503\u001b[39m \u001b[38;5;28;01mif\u001b[39;00m \u001b[38;5;28mhasattr\u001b[39m(dataset, \u001b[33m\"\u001b[39m\u001b[33mnbytes\u001b[39m\u001b[33m\"\u001b[39m):  \u001b[38;5;66;03m# TODO: Remove this after h5py minimal version is larger than 3.0\u001b[39;00m\n\u001b[32m   1504\u001b[39m     uncompressed_size = dataset.nbytes\n",
      "\u001b[31mAttributeError\u001b[39m: 'str' object has no attribute 'get_storage_size'"
     ]
    },
    {
     "data": {
      "text/plain": [
       "BehavioralEpochs pynwb.behavior.BehavioralEpochs at 0x5739886448\n",
       "Fields:\n",
       "  interval_series: {\n",
       "    wheel_moves <class 'pynwb.misc.IntervalSeries'>\n",
       "  }"
      ]
     },
     "execution_count": 487,
     "metadata": {},
     "output_type": "execute_result"
    }
   ],
   "source": [
    "all = [x for x in nwb.objects.values() if isinstance(x, pynwb.behavior.BehavioralEpochs)]\n",
    "all[0]"
   ]
  },
  {
   "cell_type": "code",
   "execution_count": null,
   "metadata": {},
   "outputs": [],
   "source": []
  },
  {
   "cell_type": "code",
   "execution_count": 467,
   "metadata": {},
   "outputs": [
    {
     "data": {
      "text/plain": [
       "[]"
      ]
     },
     "execution_count": 467,
     "metadata": {},
     "output_type": "execute_result"
    }
   ],
   "source": [
    "\n",
    "[x for x in nwb.objects.values() if isinstance(x, pynwb.behavior.SpatialSeries)]"
   ]
  },
  {
   "cell_type": "code",
   "execution_count": 290,
   "metadata": {},
   "outputs": [
    {
     "name": "stdout",
     "output_type": "stream",
     "text": [
      "Time differences: [0.144829 0.16667  0.128495 ... 0.140833 0.127666 0.183499]\n",
      "Average time resolution: 1.1241294529801327\n"
     ]
    }
   ],
   "source": [
    "time_array = [x for x in nwb.objects.values() if isinstance(x, pynwb.behavior.TimeSeries)][0].timestamps[:]\n",
    "\n",
    "# differences between consecutive elements\n",
    "time_differences = np.diff(time_array)\n",
    "\n",
    "# Calculate the average difference\n",
    "average_time_resolution = np.mean(time_differences)\n",
    "\n",
    "# Print the result\n",
    "print(\"Time differences:\", time_differences)\n",
    "print(\"Average time resolution:\", average_time_resolution)"
   ]
  },
  {
   "cell_type": "markdown",
   "metadata": {},
   "source": [
    "# behavior asset temporal resolution"
   ]
  },
  {
   "cell_type": "markdown",
   "metadata": {},
   "source": [
    "dandiset name  \n",
    "get filepaths (for now [0])  \n",
    "get file, file.download_url (api dandi path)  \n",
    "stream nwb file  \n",
    "check if pynwb.behavior class is empty, which  \n",
    "calculate time resolution\n",
    "save"
   ]
  },
  {
   "cell_type": "code",
   "execution_count": 313,
   "metadata": {},
   "outputs": [],
   "source": [
    "import pynwb.behavior\n",
    "import inspect\n",
    "\n",
    "def get_non_empty_behavior_classes(nwb):\n",
    "    \"\"\"\n",
    "    Function to find non-empty pynwb.behavior classes in an NWB file.\n",
    "\n",
    "    Parameters:\n",
    "        nwb: The NWB file object.\n",
    "\n",
    "    Returns:\n",
    "        A dictionary where keys are class names and values are counts of non-empty instances.\n",
    "    \"\"\"\n",
    "    # Get all classes in pynwb.behavior\n",
    "    behavior_classes = [\n",
    "        cls for name, cls in inspect.getmembers(pynwb.behavior, inspect.isclass)\n",
    "        if cls.__module__ == 'pynwb.behavior'\n",
    "    ]\n",
    "\n",
    "    # Check which classes are non-empty\n",
    "    non_empty_classes = {}\n",
    "\n",
    "    for behavior_class in behavior_classes:\n",
    "        non_empty_objects = [\n",
    "            x for x in nwb.objects.values() if isinstance(x, behavior_class)\n",
    "        ]\n",
    "        if non_empty_objects:  # If the list is not empty\n",
    "            non_empty_classes[behavior_class.__name__] = {\n",
    "                'count': len(non_empty_objects),\n",
    "                'objects': non_empty_objects,\n",
    "                }\n",
    "\n",
    "    return non_empty_classes"
   ]
  },
  {
   "cell_type": "code",
   "execution_count": 270,
   "metadata": {},
   "outputs": [],
   "source": []
  },
  {
   "cell_type": "code",
   "execution_count": 472,
   "metadata": {},
   "outputs": [
    {
     "data": {
      "application/vnd.jupyter.widget-view+json": {
       "model_id": "4fc56cb30b9f41059aacd867dab6cef7",
       "version_major": 2,
       "version_minor": 0
      },
      "text/plain": [
       "  0%|          | 0/64 [00:00<?, ?it/s]"
      ]
     },
     "metadata": {},
     "output_type": "display_data"
    }
   ],
   "source": [
    "behavior_assets_dandisets['filepaths'] = ''\n",
    "\n",
    "for i, dset in tqdm(behavior_assets_dandisets.iterrows(), total=len(behavior_assets_dandisets)):\n",
    "    # if i >2:\n",
    "    #     break\n",
    "    dandiset_id = dset['dandiset'].get_raw_metadata()['id'].split('/')[0].split(':')[-1]\n",
    "    with DandiAPIClient() as client:\n",
    "        c=client.get_dandiset(dandiset_id)\n",
    "    files = [asset for asset in c.get_assets()]\n",
    "    behavior_assets_dandisets.at[i, 'filepaths'] = files\n",
    "    # print(files[0].path)\n",
    "\n",
    "behavior_assets_dandisets = behavior_assets_dandisets.reset_index()\n",
    "behavior_assets_dandisets"
   ]
  },
  {
   "cell_type": "code",
   "execution_count": 474,
   "metadata": {},
   "outputs": [],
   "source": [
    "def get_time_info_from_behavior_class(behavior_class, nwb):\n",
    "    time_info = {}\n",
    "    behavior_keys = behavior_class.keys()\n",
    "    if behavior_keys:\n",
    "        for key in behavior_keys:\n",
    "            try:\n",
    "                if key == 'BehavioralEvents':\n",
    "                    try:\n",
    "                        time_series = behavior_class[key]['objects'][0].time_series\n",
    "                        time_stamps = list(time_series.values())[0].timestamps[:100]\n",
    "                        diffs = np.diff(time_stamps)\n",
    "                        mean_diff = np.mean(diffs)\n",
    "                        std_diff = np.std(diffs)\n",
    "\n",
    "                        time_info[key] = {\n",
    "                            \"mean_event_diff\": np.round(mean_diff, 6),\n",
    "                            \"std_event_diff\": np.round(std_diff, 6)\n",
    "                        }\n",
    "                    except Exception as e:\n",
    "                        time_info[key] = e\n",
    "                \n",
    "                elif key == 'BehavioralTimeSeries':\n",
    "                    try:\n",
    "                        # all = [x for x in nwb.objects.values() if isinstance(x, pynwb.behavior.TimeSeries)]\n",
    "                        # time_stamps = all[0].timestamps[:1000]\n",
    "                        time_series = behavior_class[key]['objects'][0].time_series\n",
    "                        time_stamps = list(time_series.values())[0].timestamps[:100]\n",
    "                        diffs = np.diff(time_stamps)\n",
    "                        mean_diff = np.mean(diffs)\n",
    "                        std_diff = np.std(diffs)\n",
    "\n",
    "                        time_info[key] = {\n",
    "                            \"mean_diff\": np.round(mean_diff, 6),\n",
    "                            \"std_diff\": np.round(std_diff, 6)\n",
    "                        }\n",
    "                    except Exception as e:\n",
    "                        time_info[key] = e\n",
    "\n",
    "                elif key == 'SpatialSeries':\n",
    "                    try:\n",
    "                        # all = [x for x in nwb.objects.values() if isinstance(x, pynwb.behavior.TimeSeries)]\n",
    "                        # return all \n",
    "                        starting_time = behavior_class[key]['objects'][0].starting_time\n",
    "                        starting_time_unit = behavior_class[key]['objects'][0].starting_time_unit\n",
    "                        rate = behavior_class[key]['objects'][0].rate\n",
    "                        if rate == np.nan:\n",
    "                            rate = 'no rate, check timestamps'\n",
    "                        \n",
    "                        time_info[key] = {\n",
    "                            'rate': rate,\n",
    "                            'starting_time': starting_time,\n",
    "                            'starting_time_unit': starting_time_unit\n",
    "                        }\n",
    "                    except Exception as e:\n",
    "                        time_info[key] = e\n",
    "            except Exception as e:\n",
    "                time_info[key] = Exception\n",
    "                    \n",
    "\n",
    "    return time_info"
   ]
  },
  {
   "cell_type": "code",
   "execution_count": 476,
   "metadata": {},
   "outputs": [
    {
     "data": {
      "application/vnd.jupyter.widget-view+json": {
       "model_id": "f4e8e054b83841cdb436434304d4023e",
       "version_major": 2,
       "version_minor": 0
      },
      "text/plain": [
       "  0%|          | 0/64 [00:00<?, ?it/s]"
      ]
     },
     "metadata": {},
     "output_type": "display_data"
    },
    {
     "ename": "AttributeError",
     "evalue": "not found.",
     "output_type": "error",
     "traceback": [
      "\u001b[31m---------------------------------------------------------------------------\u001b[39m",
      "\u001b[31mAttributeError\u001b[39m                            Traceback (most recent call last)",
      "\u001b[36mCell\u001b[39m\u001b[36m \u001b[39m\u001b[32mIn[476]\u001b[39m\u001b[32m, line 18\u001b[39m\n\u001b[32m     15\u001b[39m nwb = pynwb.NWBHDF5IO(file=f, mode=\u001b[33m'\u001b[39m\u001b[33mr\u001b[39m\u001b[33m'\u001b[39m).read()\n\u001b[32m     17\u001b[39m behavior_classes = get_non_empty_behavior_classes(nwb)\n\u001b[32m---> \u001b[39m\u001b[32m18\u001b[39m time_info = \u001b[43mget_time_info_from_behavior_class\u001b[49m\u001b[43m(\u001b[49m\u001b[43mbehavior_classes\u001b[49m\u001b[43m,\u001b[49m\u001b[43m \u001b[49m\u001b[43mnwb\u001b[49m\u001b[43m)\u001b[49m\n\u001b[32m     20\u001b[39m behavior_assets_dandisets.at[i, \u001b[33m'\u001b[39m\u001b[33mexperiment_description\u001b[39m\u001b[33m'\u001b[39m] = nwb.experiment_description\n\u001b[32m     21\u001b[39m behavior_assets_dandisets.at[i, \u001b[33m'\u001b[39m\u001b[33mbehavior_class\u001b[39m\u001b[33m'\u001b[39m] = behavior_classes\n",
      "\u001b[36mCell\u001b[39m\u001b[36m \u001b[39m\u001b[32mIn[474]\u001b[39m\u001b[32m, line 54\u001b[39m, in \u001b[36mget_time_info_from_behavior_class\u001b[39m\u001b[34m(behavior_class, nwb)\u001b[39m\n\u001b[32m     52\u001b[39m                 time_info[key] = e\n\u001b[32m     53\u001b[39m         \u001b[38;5;28;01melse\u001b[39;00m:\n\u001b[32m---> \u001b[39m\u001b[32m54\u001b[39m             \u001b[38;5;28;01mraise\u001b[39;00m \u001b[38;5;167;01mAttributeError\u001b[39;00m(\u001b[33m\"\u001b[39m\u001b[33mnot found.\u001b[39m\u001b[33m\"\u001b[39m)\n\u001b[32m     57\u001b[39m \u001b[38;5;28;01mreturn\u001b[39;00m time_info\n",
      "\u001b[31mAttributeError\u001b[39m: not found."
     ]
    }
   ],
   "source": [
    "behavior_assets_dandisets['experiment_description'] = ''\n",
    "behavior_assets_dandisets['behavior_class'] = ''\n",
    "behavior_assets_dandisets['time_info'] = ''\n",
    "\n",
    "\n",
    "for i, dset in tqdm(behavior_assets_dandisets.iterrows(), total=len(behavior_assets_dandisets)):\n",
    "\n",
    "    dandiset_id = dset['dandiset_id']\n",
    "    first_filepath = dset['filepaths'][0].path\n",
    "\n",
    "    with DandiAPIClient() as client:\n",
    "        file=client.get_dandiset(dandiset_id).get_asset_by_path(first_filepath)\n",
    "        lindi_url = file.download_url\n",
    "    f = lindi.LindiH5pyFile.from_hdf5_file(lindi_url)\n",
    "    nwb = pynwb.NWBHDF5IO(file=f, mode='r').read()\n",
    "\n",
    "    behavior_classes = get_non_empty_behavior_classes(nwb)\n",
    "    time_info = get_time_info_from_behavior_class(behavior_classes, nwb)\n",
    "\n",
    "    behavior_assets_dandisets.at[i, 'experiment_description'] = nwb.experiment_description\n",
    "    behavior_assets_dandisets.at[i, 'behavior_class'] = behavior_classes\n",
    "    behavior_assets_dandisets.at[i, 'time_info'] = time_info\n",
    "\n",
    "with open('./behavior_assets_dandisets_time_info.pkl', 'wb') as f:\n",
    "    pickle.dump(behavior_assets_dandisets, f)"
   ]
  },
  {
   "cell_type": "code",
   "execution_count": 486,
   "metadata": {},
   "outputs": [
    {
     "data": {
      "text/plain": [
       "{'BehavioralEpochs': {'count': 1,\n",
       "  'objects': [BehavioralEpochs pynwb.behavior.BehavioralEpochs at 0x5739886448\n",
       "   Fields:\n",
       "     interval_series: {\n",
       "       wheel_moves <class 'pynwb.misc.IntervalSeries'>\n",
       "     }]},\n",
       " 'BehavioralEvents': {'count': 1,\n",
       "  'objects': [BehavioralEvents pynwb.behavior.BehavioralEvents at 0x5742519280\n",
       "   Fields:\n",
       "     time_series: {\n",
       "       lick_times <class 'pynwb.base.TimeSeries'>\n",
       "     }]},\n",
       " 'BehavioralTimeSeries': {'count': 1,\n",
       "  'objects': [BehavioralTimeSeries pynwb.behavior.BehavioralTimeSeries at 0x5734191568\n",
       "   Fields:\n",
       "     time_series: {\n",
       "       face_motion_energy <class 'pynwb.base.TimeSeries'>\n",
       "     }]},\n",
       " 'PupilTracking': {'count': 1,\n",
       "  'objects': [PupilTracking pynwb.behavior.PupilTracking at 0x5739882080\n",
       "   Fields:\n",
       "     time_series: {\n",
       "       eye_area <class 'pynwb.base.TimeSeries'>,\n",
       "       eye_xy_positions <class 'pynwb.base.TimeSeries'>\n",
       "     }]}}"
      ]
     },
     "execution_count": 486,
     "metadata": {},
     "output_type": "execute_result"
    }
   ],
   "source": [
    "behavior_classes"
   ]
  },
  {
   "cell_type": "code",
   "execution_count": 453,
   "metadata": {},
   "outputs": [
    {
     "data": {
      "text/plain": [
       "{'BehavioralEvents': {'mean_event_diff': np.float64(12.003561),\n",
       "  'std_event_diff': np.float64(5.985609)},\n",
       " 'BehavioralTimeSeries': {'mean_diff': np.float64(0.0001),\n",
       "  'std_diff': np.float64(0.0)}}"
      ]
     },
     "execution_count": 453,
     "metadata": {},
     "output_type": "execute_result"
    }
   ],
   "source": [
    "behavior_assets_dandisets.head(5)['time_info'].iloc[3]"
   ]
  },
  {
   "cell_type": "markdown",
   "metadata": {},
   "source": [
    "if spatial series, check rate; or  time stamps \n",
    "if behavioral events, "
   ]
  },
  {
   "cell_type": "code",
   "execution_count": null,
   "metadata": {},
   "outputs": [],
   "source": []
  }
 ],
 "metadata": {
  "kernelspec": {
   "display_name": "bootcamp",
   "language": "python",
   "name": "python3"
  },
  "language_info": {
   "codemirror_mode": {
    "name": "ipython",
    "version": 3
   },
   "file_extension": ".py",
   "mimetype": "text/x-python",
   "name": "python",
   "nbconvert_exporter": "python",
   "pygments_lexer": "ipython3",
   "version": "3.13.2"
  }
 },
 "nbformat": 4,
 "nbformat_minor": 2
}
